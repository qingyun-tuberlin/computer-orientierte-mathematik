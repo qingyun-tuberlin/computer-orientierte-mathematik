{
 "cells": [
  {
   "cell_type": "markdown",
   "id": "bbe96654",
   "metadata": {},
   "source": [
    "# Tutorial 2"
   ]
  },
  {
   "cell_type": "markdown",
   "id": "fbb02a5f",
   "metadata": {},
   "source": [
    "## Aufgabe 1"
   ]
  },
  {
   "cell_type": "code",
   "execution_count": null,
   "id": "10b88f65",
   "metadata": {},
   "outputs": [
    {
     "data": {
      "text/plain": [
       "'\\nHandelt es sich bei einer Relation um Funktion?\\nIst eine Funktion injektiv, surjektiv, bijektiv?\\n'"
      ]
     },
     "execution_count": 1,
     "metadata": {},
     "output_type": "execute_result"
    }
   ],
   "source": [
    "\"\"\"\n",
    "Handelt es sich bei einer Relation um Funktion?\n",
    "Ist eine Funktion injektiv, surjektiv, bijektiv?\n",
    "See Folien Kapitel 01, Seite 13-14.\n",
    "\"\"\""
   ]
  },
  {
   "cell_type": "markdown",
   "id": "d9fbf712",
   "metadata": {},
   "source": [
    "## Aufgabe 2"
   ]
  },
  {
   "cell_type": "code",
   "execution_count": 2,
   "id": "5b61eed7",
   "metadata": {},
   "outputs": [
    {
     "data": {
      "text/plain": [
       "'\\nVollstaendige Induktion \\n'"
      ]
     },
     "execution_count": 2,
     "metadata": {},
     "output_type": "execute_result"
    }
   ],
   "source": [
    "\"\"\"\n",
    "Vollstaendige Induktion \n",
    "\"\"\""
   ]
  },
  {
   "cell_type": "markdown",
   "id": "b0abdf76",
   "metadata": {},
   "source": [
    "## Aufgabe 3"
   ]
  },
  {
   "cell_type": "code",
   "execution_count": null,
   "id": "0e6c6c63",
   "metadata": {},
   "outputs": [
    {
     "data": {
      "text/plain": [
       "'\\nWachsum der Funktion, Landau-Symbole, O-Notation \\\\\\n\\nO(g) = {f : N -> R | ∃α > 0 ∃t ∈ N ∀n >= t : 0 <= f(n) <= αg(n) }\\nΩ(g) = {f : N -> R | ∃β > 0 ∃t ∈ N ∀n >= t : f(n) >= βg(n) >= 0 }\\nΘ(g) = O(g) ∩ Ω(g)\\n\\nO(logn) ∈ O(n) ∈ O(nlogn) ∈ O(n^k) ∈ O(2^n) ∈ O(n!)\\n'"
      ]
     },
     "execution_count": 7,
     "metadata": {},
     "output_type": "execute_result"
    }
   ],
   "source": [
    "\"\"\"\n",
    "Wachsum der Funktion, Landau-Symbole, O-Notation\n",
    "\n",
    "O(g) = {f : N -> R | ∃α > 0 ∃t ∈ N ∀n >= t : 0 <= f(n) <= αg(n) }\n",
    "Ω(g) = {f : N -> R | ∃β > 0 ∃t ∈ N ∀n >= t : f(n) >= βg(n) >= 0 }\n",
    "Θ(g) = O(g) ∩ Ω(g)\n",
    "\n",
    "O(logn) ∈ O(n) ∈ O(nlogn) ∈ O(n^k) ∈ O(2^n) ∈ O(n!)\n",
    "\"\"\""
   ]
  },
  {
   "cell_type": "markdown",
   "id": "b8dad883",
   "metadata": {},
   "source": [
    "## Aufgabe 4"
   ]
  },
  {
   "cell_type": "code",
   "execution_count": null,
   "id": "48ff6e9e",
   "metadata": {},
   "outputs": [],
   "source": [
    "\"\"\"\n",
    "Aufgabestellung\n",
    "Stellt euch vor ihr seit im Keller des Mathegebäudes und findet dort 1000 Fässer mit Bier.\n",
    "Davor steht ein Schild mit der Aufschrift\n",
    "Genau eins dieser Fässer ist vergiftet gefüllt\n",
    "Daneben liegen zufälligerweise 10 Gift-Teststreifen und 10 sehr große Becher. Ist es für\n",
    "euch möglich das vergiftete Fass mit diesen Teststreifen zu finden.\n",
    "Hinweis Ihr dürft annehmen, dass die Teststreifen sehr genau sind und ein Tropfen des\n",
    "vergifteten Bieres reicht um den Test zu aktivieren. Weiterhin dürft ihr mischen.\n",
    "\"\"\""
   ]
  }
 ],
 "metadata": {
  "kernelspec": {
   "display_name": "base",
   "language": "python",
   "name": "python3"
  },
  "language_info": {
   "codemirror_mode": {
    "name": "ipython",
    "version": 3
   },
   "file_extension": ".py",
   "mimetype": "text/x-python",
   "name": "python",
   "nbconvert_exporter": "python",
   "pygments_lexer": "ipython3",
   "version": "3.12.7"
  }
 },
 "nbformat": 4,
 "nbformat_minor": 5
}

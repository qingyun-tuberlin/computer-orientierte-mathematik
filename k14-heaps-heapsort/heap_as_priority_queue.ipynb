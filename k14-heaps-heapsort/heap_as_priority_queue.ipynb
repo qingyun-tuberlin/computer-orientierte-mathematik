{
 "cells": [
  {
   "cell_type": "code",
   "execution_count": 37,
   "id": "e153cd08",
   "metadata": {},
   "outputs": [],
   "source": [
    "def parent(i): return i // 2\n",
    "def left(i): return 2*i\n",
    "def right(i): return 2*i + 1\n",
    "\n",
    "def max_heapify(A,i,n=None):\n",
    "    \"\"\"Laufzeit O(height)\n",
    "    在 1..n 范围内维持最大堆；若 n 为 None, 默认 n = len(A)-1。\n",
    "    Laufzeit: O(height) = O(log n)\n",
    "    \"\"\"\n",
    "    l, r = left(i), right(i)\n",
    "    largest = i\n",
    "    if n is None:\n",
    "        n = len(A) - 1  # 有效堆大小（因为 A[0] 是 None）\n",
    "\n",
    "    if l <= n and A[l] > A[largest]:\n",
    "        largest = l\n",
    "    if r <= n and A[r] > A[largest]:\n",
    "        largest = r\n",
    "    \n",
    "    if largest != i:\n",
    "        A[i], A[largest] = A[largest], A[i]\n",
    "        max_heapify(A,largest,n)\n",
    "\n",
    "def build_max_heap(A):\n",
    "    \"\"\"Laufzeit O(n)\"\"\"\n",
    "    n = (len(A)-1)\n",
    "    for i in range(n//2,0,-1):\n",
    "        max_heapify(A,i,n)\n",
    "    return n\n",
    "\n",
    "\n",
    "def Maxinum(A):\n",
    "    return A[1]\n",
    "\n",
    "def extract_max(A, n):\n",
    "    \"\"\"从堆中取最大值 (在 A[1..n])，返回 (max_val, 新的堆大小)。O(log n)\"\"\"\n",
    "    if n < 1:\n",
    "        raise IndexError(\"heap underflow\")\n",
    "    max_val = A[1]\n",
    "    A[1], A[n] = A[n], A[1]   # 把最大值换到末尾\n",
    "    n -= 1                    # 堆缩小\n",
    "    if n >= 1:\n",
    "        max_heapify(A, 1, n)  # 修复堆\n",
    "    # 这里的 n 表示堆的当前有效大小（也就是“还在堆里的元素个数”）。\n",
    "    return max_val\n"
   ]
  },
  {
   "cell_type": "code",
   "execution_count": 42,
   "id": "3b4953f8",
   "metadata": {},
   "outputs": [],
   "source": [
    "def increase_key(A, i, k):\n",
    "    \"\"\"将 A[i] 增大到 k，并保持最大堆性质。O(log n)\"\"\"\n",
    "    if k < A[i]:\n",
    "        raise ValueError(\"k too small\")\n",
    "    A[i] = k\n",
    "    # 上浮：只跟父亲比较并交换\n",
    "    while i > 1 and A[parent(i)] < A[i]:\n",
    "        p = parent(i)\n",
    "        A[i], A[p] = A[p], A[i]\n",
    "        i = p\n"
   ]
  },
  {
   "cell_type": "code",
   "execution_count": 43,
   "id": "428a3eca",
   "metadata": {},
   "outputs": [],
   "source": [
    "def insert(A, k):\n",
    "    \"\"\"在堆 A 中插入值 k（A 为 1-indexed，A[0] 任意占位）。O(log n)\"\"\"\n",
    "    A.append(float(\"-inf\"))         # 新位置 n+1\n",
    "    increase_key(A, len(A)-1, k)\n"
   ]
  },
  {
   "cell_type": "code",
   "execution_count": null,
   "id": "a2b9f00c",
   "metadata": {},
   "outputs": [],
   "source": [
    "def decrease_key(A, i, k, n=None):\n",
    "    \"\"\"将 A[i] 减小到 k，并保持最大堆性质。O(log n)\"\"\"\n",
    "    if k > A[i]:\n",
    "        raise ValueError(\"k too large\")\n",
    "    A[i] = k\n",
    "    max_heapify(A, i, n)            # 下沉\n"
   ]
  },
  {
   "cell_type": "code",
   "execution_count": 50,
   "id": "ef6c00da",
   "metadata": {},
   "outputs": [
    {
     "name": "stdout",
     "output_type": "stream",
     "text": [
      "[None, 16, 14, 10, 8, 7, 9, 3, 2, 4, 1]\n"
     ]
    }
   ],
   "source": [
    "A = [None, 3, 4, 10, 14, 7, 9, 16, 2, 8, 1]\n",
    "build_max_heap(A)\n",
    "print(A)"
   ]
  },
  {
   "cell_type": "code",
   "execution_count": 56,
   "id": "d92d043c",
   "metadata": {},
   "outputs": [
    {
     "name": "stdout",
     "output_type": "stream",
     "text": [
      "[None, 16, 14, 10, 8, 7, 9, 3, 2, 4, 1]\n",
      "[None, 16, 14, 15, 8, 7, 10, 3, 2, 4, 1]\n",
      "[None, 20, 16, 15, 8, 14, 10, 3, 2, 4, 1, 7]\n",
      "[None, 20, 14, 15, 8, 7, 10, 3, 2, 4, 1, 5]\n"
     ]
    }
   ],
   "source": [
    "A = [None, 16, 14, 10, 8, 7, 9, 3, 2, 4, 1]\n",
    "print(A)\n",
    "# 把位置 6 的 9 增大到 15，会一路上浮到根的右孩子处\n",
    "increase_key(A, 6, 15)\n",
    "# -> 现在 A 仍是合法最大堆\n",
    "print(A)\n",
    "# 插入 20，应该成为新的根\n",
    "insert(A, 20)\n",
    "print(A)\n",
    "# 把位置 2 的键减小到 5\n",
    "decrease_key(A, 2, 5, n=len(A)-1)\n",
    "print(A)\n"
   ]
  },
  {
   "cell_type": "code",
   "execution_count": 61,
   "id": "c764508b",
   "metadata": {},
   "outputs": [
    {
     "name": "stdout",
     "output_type": "stream",
     "text": [
      "[None, 16, 14, 10, 8, 7, 9, 3, 2, 4, 1]\n",
      "[None, 16, 5, 10, 8, 7, 9, 3, 2, 4, 1]\n",
      "[None, 16, 8, 10, 5, 7, 9, 3, 2, 4, 1]\n"
     ]
    }
   ],
   "source": [
    "A = [None, 16, 14, 10, 8, 7, 9, 3, 2, 4, 1]\n",
    "decrease_key(A, 2, 5, n=len(A)-1)\n",
    "print(A)"
   ]
  },
  {
   "cell_type": "code",
   "execution_count": 55,
   "id": "618d3def",
   "metadata": {},
   "outputs": [
    {
     "name": "stdout",
     "output_type": "stream",
     "text": [
      "[None, 14, 8, 10, 4, 7, 9, 3, 2, 1, 16]\n",
      "16\n"
     ]
    }
   ],
   "source": [
    "A = [None, 3, 4, 10, 14, 7, 9, 16, 2, 8, 1]\n",
    "n = build_max_heap(A)          # 也可直接 max_heapify(A, i) 不传 n\n",
    "m = extract_max(A, n)       # 取最大值\n",
    "print(A)\n",
    "print(m)"
   ]
  }
 ],
 "metadata": {
  "kernelspec": {
   "display_name": "base",
   "language": "python",
   "name": "python3"
  },
  "language_info": {
   "codemirror_mode": {
    "name": "ipython",
    "version": 3
   },
   "file_extension": ".py",
   "mimetype": "text/x-python",
   "name": "python",
   "nbconvert_exporter": "python",
   "pygments_lexer": "ipython3",
   "version": "3.12.7"
  }
 },
 "nbformat": 4,
 "nbformat_minor": 5
}

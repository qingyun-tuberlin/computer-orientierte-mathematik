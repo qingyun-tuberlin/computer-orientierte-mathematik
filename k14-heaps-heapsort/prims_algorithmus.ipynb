{
 "cells": [
  {
   "cell_type": "markdown",
   "id": "b62338ac",
   "metadata": {},
   "source": [
    "## Prims algorithmus realized with heap and adjacent matrix"
   ]
  },
  {
   "cell_type": "code",
   "execution_count": null,
   "id": "5ebcc361",
   "metadata": {},
   "outputs": [],
   "source": [
    "# ---------- helpers ----------\n",
    "def left(i): return 2*i\n",
    "def right(i): return 2*i + 1\n",
    "def parent(i): return i // 2\n",
    "\n",
    "def _swap(A, i, j, pos):\n",
    "    # print(\"i: \",i, \" j: \",j, \"\\n\")\n",
    "    # print(\"A[i]: \",A[i], \" A[j]: \",A[j], \"\\n\")\n",
    "    A[i], A[j] = A[j], A[i]\n",
    "    # print(\"A[i]: \",A[i], \" A[j]: \",A[j], \"\\n\")\n",
    "\n",
    "    _, vi = A[i]\n",
    "    _, vj = A[j]\n",
    "    # print(\"vi: \",vi, \" vj: \",vj, \"\\n\")\n",
    "    pos[vi] = i\n",
    "    pos[vj] = j\n",
    "\n",
    "# ---------- core heap ops ----------\n",
    "def min_heapify(A, i, n=None, pos=None):\n",
    "    \"\"\"A: [None,(key,v),...] ; 基于 A[i] 向下维护最小堆；可选 pos 以在交换时更新\n",
    "    min-heap 的排序依据就是 key, 而这个 key 通常就是边的权重\n",
    "    \"\"\"\n",
    "    if n is None: n = len(A) - 1\n",
    "    while True:\n",
    "        l, r = left(i), right(i)\n",
    "        smallest = i\n",
    "        if l <= n and A[l][0] < A[smallest][0]:\n",
    "            smallest = l\n",
    "        if r <= n and A[r][0] < A[smallest][0]:\n",
    "            smallest = r\n",
    "        if smallest != i:\n",
    "            if pos is not None:\n",
    "                _swap(A, i, smallest, pos)\n",
    "            else:\n",
    "                A[i], A[smallest] = A[smallest], A[i]\n",
    "            i = smallest\n",
    "        else:\n",
    "            break\n",
    "\n",
    "def build_min_heap(A, pos):\n",
    "    \"\"\"\n",
    "    A 为 [None] + 列表((key,v),...)；会原地建堆并写入 pos[v] = index\n",
    "    若 A 里尚未写 pos, 可先调用本函数建立。\n",
    "    \"\"\"\n",
    "    n = len(A) - 1\n",
    "    for i in range(1, n+1):\n",
    "        _, v = A[i]\n",
    "        pos[v] = i\n",
    "    for i in range(n // 2, 0, -1):\n",
    "        min_heapify(A, i, n, pos)\n",
    "\n",
    "def build_min_heap_without_pos(A):\n",
    "    \"\"\" \n",
    "    正确，能把 A 变成合法的最小堆\n",
    "    但不能支持 decrease_key 里通过 pos[v] 找顶点位置\n",
    "    \"\"\"\n",
    "    n = len(A) - 1\n",
    "    for i in range(n // 2, 0, -1):\n",
    "        min_heapify(A, i, n)\n",
    "\n",
    "\n",
    "def heap_is_empty(A):\n",
    "    return len(A) == 1\n",
    "\n",
    "def heap_insert(A, pos, v, key):\n",
    "    \"\"\"插入 (key,v)：先放 +inf，再 decrease\"\"\"\n",
    "    A.append((float(\"inf\"), v))\n",
    "    pos[v] = len(A) - 1\n",
    "    heap_decrease_key(A, pos, v, key)\n",
    "\n",
    "def heap_decrease_key(A, pos, v, new_key):\n",
    "    \"\"\"将顶点 v 的键减少为 new_key（要求 new_key <= 当前值）\"\"\"\n",
    "    i = pos[v]\n",
    "    if new_key > A[i][0]:\n",
    "        raise ValueError(\"new_key is larger than current key\")\n",
    "    # 向上浮\n",
    "    A[i] = (new_key, v)\n",
    "    while i > 1 and A[parent(i)][0] > A[i][0]:\n",
    "        _swap(A, i, parent(i), pos)\n",
    "        i = parent(i)\n",
    "\n",
    "def heap_extract_min(A, pos):\n",
    "    \"\"\"弹出最小项，返回 (key, v)\"\"\"\n",
    "    if heap_is_empty(A):\n",
    "        raise IndexError(\"extract_min from empty heap\")\n",
    "    min_item = A[1]\n",
    "    last = A.pop()\n",
    "    del pos[min_item[1]]\n",
    "    if len(A) > 1:\n",
    "        A[1] = last\n",
    "        pos[last[1]] = 1\n",
    "        min_heapify(A, 1, len(A)-1, pos)\n",
    "    return min_item\n"
   ]
  },
  {
   "cell_type": "code",
   "execution_count": 10,
   "id": "217326c8",
   "metadata": {},
   "outputs": [],
   "source": [
    "def prim(adj, start):\n",
    "    \"\"\"\n",
    "    adj: dict[u] -> list[(v, w)]  （无向图：需为每条边写两向）\n",
    "    start: 起点\n",
    "    返回：pred 前驱字典、MST 总权重 total\n",
    "    \"\"\"\n",
    "    key   = {u: float(\"inf\") for u in adj}\n",
    "    pred  = {u: None for u in adj}\n",
    "    in_T  = {u: False for u in adj}\n",
    "\n",
    "    # 建堆：把所有顶点放进去，key=+inf；随后把 start 的 key 降到 0\n",
    "    A   = [None] + [(key[u], u) for u in adj]\n",
    "    pos = {}\n",
    "    build_min_heap(A, pos)\n",
    "    key[start] = 0.0\n",
    "    heap_decrease_key(A, pos, start, 0.0)\n",
    "\n",
    "    total = 0.0\n",
    "    while not heap_is_empty(A):\n",
    "        ku, u = heap_extract_min(A, pos)\n",
    "        in_T[u] = True\n",
    "        if pred[u] is not None:\n",
    "            total += ku\n",
    "        for v, w in adj[u]:\n",
    "            if not in_T[v] and w < key[v]:\n",
    "                key[v] = w\n",
    "                pred[v] = u\n",
    "                heap_decrease_key(A, pos, v, w)\n",
    "    return pred, total\n",
    "\n",
    "def print_mst(pred, adj, total):\n",
    "    \"\"\"\n",
    "    pred: Prim 算法返回的前驱字典\n",
    "    adj : 图的邻接表 (dict[u] -> list[(v, w)])\n",
    "    total: MST 总权重\n",
    "    \"\"\"\n",
    "    print(\"MST edges:\")\n",
    "    for v, u in pred.items():\n",
    "        if u is not None:  # 跳过起点\n",
    "            # 找到边权重\n",
    "            w = next(weight for nbr, weight in adj[u] if nbr == v)\n",
    "            print(f\"  {u} -- {v} (weight {w})\")\n",
    "    \n",
    "    \n",
    "    print(f\"\\nTotal weight = {total}\\n\")\n",
    "    mst_edges = [(u,v) for v,u in pred.items() if u is not None]\n",
    "    print(\"MST edges:\", mst_edges)\n"
   ]
  },
  {
   "cell_type": "code",
   "execution_count": 11,
   "id": "9826e676",
   "metadata": {},
   "outputs": [
    {
     "name": "stdout",
     "output_type": "stream",
     "text": [
      "MST edges:\n",
      "  A -- B (weight 4)\n",
      "  F -- C (weight 4)\n",
      "  C -- D (weight 7)\n",
      "  D -- E (weight 9)\n",
      "  G -- F (weight 2)\n",
      "  H -- G (weight 1)\n",
      "  A -- H (weight 8)\n",
      "  C -- I (weight 2)\n",
      "\n",
      "Total weight = 37.0\n",
      "\n",
      "MST edges: [('A', 'B'), ('F', 'C'), ('C', 'D'), ('D', 'E'), ('G', 'F'), ('H', 'G'), ('A', 'H'), ('C', 'I')]\n"
     ]
    }
   ],
   "source": [
    "# 无向图（手动补双向）\n",
    "adj = {\n",
    "    'A': [('B', 4), ('H', 8)],\n",
    "    'B': [('A', 4), ('C', 8), ('H', 11)],\n",
    "    'C': [('B', 8), ('D', 7), ('F', 4), ('I', 2)],\n",
    "    'D': [('C', 7), ('E', 9), ('F', 14)],\n",
    "    'E': [('D', 9), ('F', 10)],\n",
    "    'F': [('C', 4), ('D', 14), ('E', 10), ('G', 2)],\n",
    "    'G': [('F', 2), ('H', 1), ('I', 6)],\n",
    "    'H': [('A', 8), ('B', 11), ('G', 1), ('I', 7)],\n",
    "    'I': [('C', 2), ('G', 6), ('H', 7)],\n",
    "}\n",
    "pred, total = prim(adj, 'A')\n",
    "# pred 是生成树结构；total 是 MST 权重和\n",
    "\n",
    "print_mst(pred, adj, total)\n"
   ]
  },
  {
   "cell_type": "markdown",
   "id": "cdf8c163",
   "metadata": {},
   "source": [
    "## 代码详解"
   ]
  },
  {
   "cell_type": "code",
   "execution_count": 13,
   "id": "86ddf5c5",
   "metadata": {},
   "outputs": [
    {
     "name": "stdout",
     "output_type": "stream",
     "text": [
      "[('B', 1), ('C', 3)]\n"
     ]
    }
   ],
   "source": [
    "#    A\n",
    "#   / \\\n",
    "#  1   3\n",
    "#  /     \\\n",
    "# B ——2—— C\n",
    "\n",
    "A = {\n",
    "    'A': [('B', 1), ('C', 3)],\n",
    "    'B': [('A', 1), ('C', 2)],\n",
    "    'C': [('A', 3), ('B', 2)],\n",
    "}\n",
    "print(A['A'])\n"
   ]
  },
  {
   "cell_type": "markdown",
   "id": "d4bcb8e1",
   "metadata": {},
   "source": [
    "###  _swap"
   ]
  },
  {
   "cell_type": "code",
   "execution_count": 18,
   "id": "7665b728",
   "metadata": {},
   "outputs": [
    {
     "name": "stdout",
     "output_type": "stream",
     "text": [
      "i:  1  j:  3 \n",
      "\n",
      "A[i]:  (3, 'B')  A[j]:  (7, 'D') \n",
      "\n",
      "A[i]:  (7, 'D')  A[j]:  (3, 'B') \n",
      "\n",
      "vi:  D  vj:  B \n",
      "\n",
      "{'B': 3, 'C': 2, 'D': 1}\n",
      "[None, (7, 'D'), (5, 'C'), (3, 'B')]\n"
     ]
    }
   ],
   "source": [
    "# A = [None, (key, v), (key, v), ...]\n",
    "# key = 当前顶点在堆里的优先级\n",
    "# v = 顶点名字\n",
    "# 堆是 1-indexed，所以 A[0] = None 占位\n",
    "\n",
    "# pos[v] = i   # 顶点 v 在堆数组中的下标 i\n",
    "\n",
    "# _, vi = A[i]\n",
    "# A[i] 是一个 (key, v)\n",
    "# _ 表示我们不关心 key，只要顶点名 v\n",
    "# 所以 vi = A[i] 里的顶点，vj = A[j] 里的顶点\n",
    "\n",
    "A = [ None, (3,'B'), (5,'C'), (7,'D') ]\n",
    "pos = { 'B':1, 'C':2, 'D':3 }\n",
    "_swap(A, 1, 3, pos)\n",
    "print(pos)\n",
    "\n",
    "A = [ None, (3,'B'), (5,'C'), (7,'D') ]\n",
    "A[1], A[3] = A[3],A[1]\n",
    "print(A)"
   ]
  },
  {
   "cell_type": "markdown",
   "id": "02948f47",
   "metadata": {},
   "source": [
    "### min_heapify"
   ]
  },
  {
   "cell_type": "code",
   "execution_count": null,
   "id": "7f8d5016",
   "metadata": {},
   "outputs": [],
   "source": [
    "# 输入：\n",
    "# A 是 1-indexed 的堆数组：[None, (key,v), (key,v), ...]\n",
    "# i 是要修复堆性质的节点位置\n",
    "# n 是堆大小（如果不给，就取 len(A)-1）\n",
    "# pos 是一个字典，维护顶点到堆下标的映射\n",
    "# 目标：确保以 i 为根的子树满足最小堆性质（父节点的 key ≤ 子节点的 key）\n",
    "\n",
    "\n",
    "# if pos is not None:\n",
    "#     _swap(A, i, smallest, pos)\n",
    "# else:\n",
    "#     A[i], A[smallest] = A[smallest], A[i]\n",
    "# i = smallest\n",
    "\n",
    "# 1. 如果 pos is not None\n",
    "# 说明你在用 Prim 算法的版本，堆里除了数组 A 之外，还维护了一个字典\n",
    "# pos[v] = i   # 顶点 v 在堆数组中的下标 i\n",
    "# 这样才能让 decrease_key(A, pos, v, new_key) 在 \n",
    "# O(logn) 时间内找到顶点 v 的位置。\n",
    "# 但是！一旦你交换了堆里两个元素的位置（A[i] 和 A[smallest]），\n",
    "# pos 字典里的记录就过时了，必须更新。\n",
    "# 所以调用：_swap(A, i, smallest, pos)\n",
    "# 在交换的同时，同步更新 pos 字典\n",
    "# 2. 如果 pos is None\n",
    "# 说明你只是单纯想用堆，不需要 pos，比如排序或者检查堆结构。\n",
    "# 这时候只需要交换数组里的两个元素，不必更新任何字典。\n",
    "# 所以就写：\n",
    "# A[i], A[smallest] = A[smallest], A[i]\n",
    "# 3. 为什么要分支？\n",
    "# 不分支的话，如果总是调用 _swap，那就要求一定传 pos；\n",
    "# 但有时候你只想用最小堆排序，根本不需要 pos，这时传 pos=None，函数也应该能工作。\n",
    "# 这个写法让 min_heapify 更通用：\n",
    "# 有 pos → 维护 pos\n",
    "# 没 pos → 只维护数组\n"
   ]
  },
  {
   "cell_type": "markdown",
   "id": "36e25798",
   "metadata": {},
   "source": [
    "### build_min_heap"
   ]
  },
  {
   "cell_type": "code",
   "execution_count": 27,
   "id": "d21fb35d",
   "metadata": {},
   "outputs": [
    {
     "name": "stdout",
     "output_type": "stream",
     "text": [
      "Before build_min_heap:\n",
      "A = [None, (3, 'B'), (1, 'A'), (2, 'C'), (0, 'D')]\n",
      "pos = {}\n",
      "\n",
      "After build_min_heap:\n",
      "A = [None, (0, 'D'), (1, 'A'), (2, 'C'), (3, 'B')]\n",
      "pos = {'B': 4, 'A': 2, 'C': 3, 'D': 1}\n",
      "Before build_min_heap_without_pos:\n",
      "A = [None, (3, 'B'), (1, 'A'), (2, 'C'), (0, 'D')]\n",
      "pos = {'B': 4, 'A': 2, 'C': 3, 'D': 1}\n",
      "\n",
      "After build_min_heap_without_pos:\n",
      "A = [None, (0, 'D'), (1, 'A'), (2, 'C'), (3, 'B')]\n",
      "pos = {'B': 4, 'A': 2, 'C': 3, 'D': 1}\n"
     ]
    }
   ],
   "source": [
    "\n",
    "A = [None, (3,'B'), (1,'A'), (2,'C'),(0,'D')]\n",
    "pos = {}\n",
    "\n",
    "print(\"Before build_min_heap:\")\n",
    "print(\"A =\", A)\n",
    "print(\"pos =\", pos)\n",
    "\n",
    "build_min_heap(A, pos)\n",
    "\n",
    "print(\"\\nAfter build_min_heap:\")\n",
    "print(\"A =\", A)\n",
    "print(\"pos =\", pos)\n",
    "\n",
    "A = [None, (3,'B'), (1,'A'), (2,'C'),(0,'D')]\n",
    "print(\"Before build_min_heap_without_pos:\")\n",
    "print(\"A =\", A)\n",
    "print(\"pos =\", pos)\n",
    "\n",
    "build_min_heap_without_pos(A)\n",
    "\n",
    "print(\"\\nAfter build_min_heap_without_pos:\")\n",
    "print(\"A =\", A)\n",
    "print(\"pos =\", pos)"
   ]
  },
  {
   "cell_type": "markdown",
   "id": "df24e5ab",
   "metadata": {},
   "source": [
    "### heap_extract_min"
   ]
  },
  {
   "cell_type": "code",
   "execution_count": 31,
   "id": "d5fb1bd2",
   "metadata": {},
   "outputs": [
    {
     "name": "stdout",
     "output_type": "stream",
     "text": [
      "(1, 'A')\n",
      "1\n",
      "A\n",
      "(3, 'C')\n",
      "[None, (1, 'A'), (4, 'B')]\n"
     ]
    }
   ],
   "source": [
    "A = [None, (1,'A'), (4,'B'), (3,'C')]\n",
    "print(A[1])\n",
    "print(A[1][0])\n",
    "print(A[1][1])\n",
    "print(A.pop())\n",
    "print(A)"
   ]
  },
  {
   "cell_type": "code",
   "execution_count": null,
   "id": "48e220b9",
   "metadata": {},
   "outputs": [],
   "source": [
    "# heap_extract_min：把堆顶的最小元素删掉并返回，\n",
    "# 然后用最后一个元素顶上来，\n",
    "# 再调用 min_heapify 保证堆有序，同时维护好 pos 字典。\n",
    "\n",
    "# min_item = A[1]\n",
    "# 最小堆的堆顶 A[1] 就是最小值，记为 min_item。\n",
    "# 注意：这是一个 (key, v) 元组。\n",
    "\n",
    "# last = A.pop()\n",
    "# 从数组末尾拿出最后一个元素。\n",
    "# 堆里的元素总数减少 1。\n",
    "\n",
    "# del pos[min_item[1]]\n",
    "# 从位置字典 pos 删除掉刚刚取走的顶点。\n",
    "# # 比如 min_item = (1,'A')，那就 del pos['A']\n",
    "\n",
    "# 为什么 `heap_extract_min` 里要做 **`A[1] = last`**？\n",
    "\n",
    "# 1. 堆顶空了，需要填补\n",
    "\n",
    "# 在最小堆里，堆顶 A[1] 总是最小元素。\n",
    "# 当我们取出 `A[1]`（最小值）后，这个位置就空了：\n",
    "\n",
    "\n",
    "# Before extract:\n",
    "# A = [None, (1,'A'), (3,'B'), (5,'C')]\n",
    "# 取出 (1,'A')\n",
    "\n",
    "# 这时候堆变成：\n",
    "\n",
    "\n",
    "# A = [None, ?, (3,'B'), (5,'C')]\n",
    "\n",
    "\n",
    "# 堆顶不能留空，否则数组就断裂了。\n",
    "\n",
    "\n",
    "# 2. 为什么用最后一个元素来填补？\n",
    "\n",
    "# 堆的存储方式是**完全二叉树**（complete binary tree），也就是：\n",
    "\n",
    "# * 每一层从左到右填满，只有最后一层可能不满。\n",
    "# * 这样才能保证树的高度 = O(log n)。\n",
    "\n",
    "# 如果直接把堆顶删掉，不用最后一个元素来补，就会在数组中间留下“空洞”，破坏完全二叉树的结构。\n",
    "\n",
    "# 所以标准做法是：\n",
    "\n",
    "# * 把数组的最后一个元素拿来填补堆顶。\n",
    "# * 这样数组还是连续的，没有空位。\n",
    "\n",
    "# 3. 接下来要做什么？\n",
    "\n",
    "# 当然，最后一个元素随便放到堆顶后，堆性质可能会破坏：\n",
    "\n",
    "# 原来： (1,'A') 是最小\n",
    "# 放上来： (5,'C') → 可能比孩子大\n",
    "\n",
    "\n",
    "# 所以要调用 `min_heapify(A,1)`，把它往下沉，恢复最小堆。\n",
    "\n",
    "# 4. 动态例子\n",
    "\n",
    "# 初始：\n",
    "\n",
    "# A = [None, (1,'A'), (3,'B'), (5,'C')]\n",
    "\n",
    "# * 最小是 `(1,'A')`，我们要删掉它。\n",
    "# * 最后一个元素是 `(5,'C')`。\n",
    "# * 把它移到堆顶：\n",
    "\n",
    "# 临时状态: [None, (5,'C'), (3,'B')]\n",
    "\n",
    "# * 然后调用 `min_heapify(A,1)`：\n",
    "\n",
    "#   * 比较 (5,'C') 和孩子 (3,'B') → 交换\n",
    "#   * 结果：\n",
    "\n",
    "# A = [None, (3,'B'), (5,'C')]\n",
    "\n",
    "# `A[1] = last` 的目的：\n",
    "\n",
    "# * 保持堆的数组结构连续（不留空洞），\n",
    "# * 维持完全二叉树的性质。\n",
    "#   之后用 `min_heapify` 来恢复堆序。\n"
   ]
  },
  {
   "cell_type": "markdown",
   "id": "7a75d68c",
   "metadata": {},
   "source": [
    "### prim"
   ]
  },
  {
   "cell_type": "code",
   "execution_count": 32,
   "id": "dfa20d85",
   "metadata": {},
   "outputs": [],
   "source": [
    "a = float(\"inf\")"
   ]
  },
  {
   "cell_type": "code",
   "execution_count": 33,
   "id": "f4f1da6c",
   "metadata": {},
   "outputs": [
    {
     "data": {
      "text/plain": [
       "inf"
      ]
     },
     "execution_count": 33,
     "metadata": {},
     "output_type": "execute_result"
    }
   ],
   "source": [
    "a"
   ]
  },
  {
   "cell_type": "code",
   "execution_count": 34,
   "id": "b416d69b",
   "metadata": {},
   "outputs": [],
   "source": [
    "b = float(\"-inf\")"
   ]
  },
  {
   "cell_type": "code",
   "execution_count": 35,
   "id": "92cc2493",
   "metadata": {},
   "outputs": [
    {
     "data": {
      "text/plain": [
       "-inf"
      ]
     },
     "execution_count": 35,
     "metadata": {},
     "output_type": "execute_result"
    }
   ],
   "source": [
    "b"
   ]
  },
  {
   "cell_type": "code",
   "execution_count": 36,
   "id": "e8a36488",
   "metadata": {},
   "outputs": [
    {
     "data": {
      "text/plain": [
       "{'A': inf, 'B': inf, 'C': inf}"
      ]
     },
     "execution_count": 36,
     "metadata": {},
     "output_type": "execute_result"
    }
   ],
   "source": [
    "A = {\n",
    "    'A': [('B', 1), ('C', 3)],\n",
    "    'B': [('A', 1), ('C', 2)],\n",
    "    'C': [('A', 3), ('B', 2)],\n",
    "}\n",
    "key   = {u: float(\"inf\") for u in A}\n",
    "key"
   ]
  },
  {
   "cell_type": "code",
   "execution_count": 42,
   "id": "9863df5c",
   "metadata": {},
   "outputs": [
    {
     "name": "stdout",
     "output_type": "stream",
     "text": [
      "key:  {'A': inf, 'B': inf, 'C': inf}\n",
      "A\n",
      "B\n",
      "C\n"
     ]
    },
    {
     "data": {
      "text/plain": [
       "[None, (inf, 'A'), (inf, 'B'), (inf, 'C')]"
      ]
     },
     "execution_count": 42,
     "metadata": {},
     "output_type": "execute_result"
    }
   ],
   "source": [
    "key   = {u: float(\"inf\") for u in A}\n",
    "print(\"key: \", key)\n",
    "A = {\n",
    "    'A': [('B', 1), ('C', 3)],\n",
    "    'B': [('A', 1), ('C', 2)],\n",
    "    'C': [('A', 3), ('B', 2)],\n",
    "}\n",
    "B = [None] + [(key[u], u) for u in A]\n",
    "\n",
    "for u in A:\n",
    "    print(u)\n",
    "B"
   ]
  },
  {
   "cell_type": "code",
   "execution_count": 44,
   "id": "831f995b",
   "metadata": {},
   "outputs": [
    {
     "name": "stdout",
     "output_type": "stream",
     "text": [
      "key:  {'A': inf, 'B': inf, 'C': inf, 'D': inf, 'E': inf, 'F': inf, 'G': inf, 'H': inf, 'I': inf}\n"
     ]
    },
    {
     "data": {
      "text/plain": [
       "[None,\n",
       " (inf, 'A'),\n",
       " (inf, 'B'),\n",
       " (inf, 'C'),\n",
       " (inf, 'D'),\n",
       " (inf, 'E'),\n",
       " (inf, 'F'),\n",
       " (inf, 'G'),\n",
       " (inf, 'H'),\n",
       " (inf, 'I')]"
      ]
     },
     "execution_count": 44,
     "metadata": {},
     "output_type": "execute_result"
    }
   ],
   "source": [
    "A = {\n",
    "    'A': [('B', 4), ('H', 8)],\n",
    "    'B': [('A', 4), ('C', 8), ('H', 11)],\n",
    "    'C': [('B', 8), ('D', 7), ('F', 4), ('I', 2)],\n",
    "    'D': [('C', 7), ('E', 9), ('F', 14)],\n",
    "    'E': [('D', 9), ('F', 10)],\n",
    "    'F': [('C', 4), ('D', 14), ('E', 10), ('G', 2)],\n",
    "    'G': [('F', 2), ('H', 1), ('I', 6)],\n",
    "    'H': [('A', 8), ('B', 11), ('G', 1), ('I', 7)],\n",
    "    'I': [('C', 2), ('G', 6), ('H', 7)],\n",
    "}\n",
    "key   = {u: float(\"inf\") for u in A}\n",
    "print(\"key: \", key)\n",
    "B = [None] + [(key[u], u) for u in A]\n",
    "\n",
    "B"
   ]
  }
 ],
 "metadata": {
  "kernelspec": {
   "display_name": "base",
   "language": "python",
   "name": "python3"
  },
  "language_info": {
   "codemirror_mode": {
    "name": "ipython",
    "version": 3
   },
   "file_extension": ".py",
   "mimetype": "text/x-python",
   "name": "python",
   "nbconvert_exporter": "python",
   "pygments_lexer": "ipython3",
   "version": "3.12.7"
  }
 },
 "nbformat": 4,
 "nbformat_minor": 5
}

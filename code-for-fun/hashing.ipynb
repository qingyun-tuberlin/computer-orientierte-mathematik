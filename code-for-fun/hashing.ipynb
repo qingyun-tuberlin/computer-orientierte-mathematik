{
 "cells": [
  {
   "cell_type": "code",
   "execution_count": null,
   "id": "0f5704f2",
   "metadata": {},
   "outputs": [],
   "source": [
    "\"\"\"\n",
    "Python: dict\n",
    "D[key] search\n",
    "D[key]= value   insert\n",
    "del D[key]      delete\n",
    "\n",
    "item = (key, value)\n",
    "\n",
    "Motivation:\n",
    "-docdist\n",
    "-database\n",
    "-compilers, interpreter\n",
    "-snetwork router\n",
    "\n",
    "in python \n",
    "- hash(x)\n",
    "\"\"\""
   ]
  }
 ],
 "metadata": {
  "language_info": {
   "name": "python"
  }
 },
 "nbformat": 4,
 "nbformat_minor": 5
}

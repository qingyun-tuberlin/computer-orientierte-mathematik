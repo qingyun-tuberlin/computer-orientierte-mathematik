{
 "cells": [
  {
   "cell_type": "markdown",
   "id": "268f68e1",
   "metadata": {},
   "source": [
    "# 2024-09"
   ]
  },
  {
   "cell_type": "code",
   "execution_count": null,
   "id": "979df2f7",
   "metadata": {},
   "outputs": [],
   "source": [
    "# Aufgabe 8.1"
   ]
  },
  {
   "cell_type": "markdown",
   "id": "2d57887b",
   "metadata": {},
   "source": [
    "# 2022-07"
   ]
  },
  {
   "cell_type": "markdown",
   "id": "e0a799f1",
   "metadata": {},
   "source": [
    "## a) evendigits(n)"
   ]
  },
  {
   "cell_type": "code",
   "execution_count": 28,
   "id": "37478049",
   "metadata": {},
   "outputs": [
    {
     "name": "stdout",
     "output_type": "stream",
     "text": [
      "[2, 4, 6, 8, 20, 22, 24, 26, 28, 40, 42, 44, 46, 48]\n"
     ]
    }
   ],
   "source": [
    "# Task a (4 points)\n",
    "# Es sei eine positive ganze Zahl n gegeben. \n",
    "# Schreiben Sie eine Python-Funktion\n",
    "# evendigits (n), die die nach Größe geordnete Liste\n",
    "# aller positiven Zahlen kleiner n zurückgibt, \n",
    "# die ausschließlich gerade Ziffern haben.\n",
    "\n",
    "def evendigits(n):\n",
    "    \"\"\" \n",
    "    solution idea:\n",
    "    loop from 0 to n-1\n",
    "    if split the number by digit\n",
    "    if digit is even\n",
    "    then append this number into result list\n",
    "    be abware, 0 is neither positive nor negative\n",
    "    \"\"\"\n",
    "    s = str(n)\n",
    "    r = []\n",
    "    ziffer = [\"0\",\"2\",\"4\",\"6\",\"8\"]\n",
    "    for i in range(1,n):\n",
    "        cur_str_list = list(str(i))\n",
    "        allEven = True\n",
    "        for j in range(0,len(cur_str_list)):\n",
    "            allEven = allEven and (cur_str_list[j] in ziffer)\n",
    "            if not allEven:\n",
    "                break\n",
    "\n",
    "        if allEven :\n",
    "            r.append(i)\n",
    "    return r\n",
    "\n",
    "print(evendigits(60))"
   ]
  },
  {
   "cell_type": "code",
   "execution_count": null,
   "id": "8cac11da",
   "metadata": {},
   "outputs": [
    {
     "name": "stdout",
     "output_type": "stream",
     "text": [
      "[2, 4, 6, 8, 20, 22, 24, 26, 28]\n"
     ]
    }
   ],
   "source": [
    "# version 2\n",
    "# since 2, 4, 6, 8 are all number with number % 2 = 0\n",
    "# we can simplify the condition check by useing if int(d)%2 != 0\n",
    "def evendigits(n):\n",
    "    r = []\n",
    "    for x in range(1,n):\n",
    "\n",
    "        flag = True\n",
    "        for d in str(x):\n",
    "            if int(d)%2 != 0 :\n",
    "                flag = False\n",
    "                break\n",
    "        if flag:\n",
    "            r.append(x)\n",
    "    return r\n",
    "            \n",
    "print(evendigits(30))"
   ]
  },
  {
   "cell_type": "code",
   "execution_count": null,
   "id": "2cd3d641",
   "metadata": {},
   "outputs": [],
   "source": [
    "# version 3\n",
    "# the loop above can be optimzed\n",
    "# all(iterable) checks whether all elements in the given iterable are True\n",
    "def evendigits(n):\n",
    "    r = []\n",
    "    for x in range(1,n):\n",
    "        if all(int(d) % 2 == 0 for d in str(x)):\n",
    "            r.append(x)\n",
    "    return r\n"
   ]
  },
  {
   "cell_type": "code",
   "execution_count": null,
   "id": "9c63a366",
   "metadata": {},
   "outputs": [],
   "source": [
    "# version 4\n",
    "def evendigits(n):\n",
    "    return [x for x in range(1, n) if set(str(x)) <= set(\"02468\")]"
   ]
  },
  {
   "cell_type": "markdown",
   "id": "ad846549",
   "metadata": {},
   "source": [
    "## b) palindrome(n)"
   ]
  },
  {
   "cell_type": "code",
   "execution_count": 23,
   "id": "0121e0fe",
   "metadata": {},
   "outputs": [
    {
     "name": "stdout",
     "output_type": "stream",
     "text": [
      "✅ all test passt\n"
     ]
    }
   ],
   "source": [
    "# Task b (4 points)\n",
    "# Es sei eine positive ganze Zahl n gegeben. Schreiben Sie eine Python-Funktion\n",
    "# palindrome (n), die True zurückgibt, falls die Folge der Ziffern von n ein Palindrom\n",
    "# ist (also vorwärts und rückwärts gelesen die gleiche Zahl ergibt), und False sonst.\n",
    "def palindrome(n):\n",
    "    n = str(n)\n",
    "    length = len(str(n))\n",
    "    if length == 1 :\n",
    "        return True\n",
    "    if length % 2 != 0 :\n",
    "        return False\n",
    "    \n",
    "    # bound = int(length / 2 )\n",
    "    # optimierung: use //, integer division\n",
    "    bound = length // 2\n",
    "    for i in range(0,bound):\n",
    "        x = length - i - 1\n",
    "        if n[i] != n[x]:\n",
    "            return False\n",
    "    return True\n",
    "\n",
    "assert palindrome(1221) == True\n",
    "assert palindrome(12433421) == True \n",
    "assert palindrome(1) == True\n",
    "assert palindrome(12) == False\n",
    "print(\"✅ all test passt\")"
   ]
  },
  {
   "cell_type": "code",
   "execution_count": null,
   "id": "0a40f15f",
   "metadata": {},
   "outputs": [
    {
     "name": "stdout",
     "output_type": "stream",
     "text": [
      "✅ all test passt\n"
     ]
    }
   ],
   "source": [
    "def palindrome(n):\n",
    "    s = str(n)\n",
    "    return s == s[::-1] # reverse the string\n",
    "\n",
    "assert palindrome(1221) == True\n",
    "assert palindrome(12433421) == True \n",
    "assert palindrome(1) == True\n",
    "assert palindrome(12) == False\n",
    "print(\"✅ all test passt\")"
   ]
  },
  {
   "cell_type": "markdown",
   "id": "12032502",
   "metadata": {},
   "source": [
    "## c) duplicates(L)"
   ]
  },
  {
   "cell_type": "code",
   "execution_count": null,
   "id": "7ff4507f",
   "metadata": {},
   "outputs": [],
   "source": [
    "# Task c (3 points)\n",
    "# Es sei eine Liste L von n ganzen Zahlen gegeben. Schreiben Sie eine Python-Funktion\n",
    "# duplicates (L), die in Laufzeit O(nlogn) eine geordnete Liste der Elemente aus L\n",
    "# zurückgibt, welche in L mindestens doppelt vorkommen.\n",
    "\n",
    "def duplicates(L):\n",
    "    pass"
   ]
  },
  {
   "cell_type": "markdown",
   "id": "0db2817a",
   "metadata": {},
   "source": [
    "## update skills"
   ]
  },
  {
   "cell_type": "code",
   "execution_count": null,
   "id": "361ccac3",
   "metadata": {},
   "outputs": [],
   "source": [
    "# 在 Python 里，字符串本身就是一个可迭代对象，所以你直接用 list() 就能把它拆成单个字符\n",
    "s = \"as68\"\n",
    "chars = list(s)\n",
    "print(chars)\n",
    "\n",
    "# 用列表形式推导\n",
    "chars = [c for c in s]\n",
    "print(chars)\n",
    "\n",
    "# 用 * 解包\n",
    "chars = [*s]\n",
    "print(chars)"
   ]
  },
  {
   "cell_type": "code",
   "execution_count": null,
   "id": "150ab31f",
   "metadata": {},
   "outputs": [],
   "source": [
    "# 在python 中，什么是可迭代对象\n",
    "\n",
    "# 字符串 str\n",
    "s = \"hello\"\n",
    "for ch in s:\n",
    "    print(ch)\n",
    "\n",
    "# 列表 list []\n",
    "lst = [1, 2, 3]\n",
    "for item in lst:\n",
    "    print(item)\n",
    "\n",
    "# 元组 tuple ()\n",
    "t = (4, 5, 6)\n",
    "for x in t:\n",
    "    print(x)\n",
    "\n",
    "# 集合 set {}\n",
    "# 集合是无序的，所以打印的顺序不一定固定。\n",
    "s = {1, 2, 3}\n",
    "for elem in s:\n",
    "    print(elem)\n",
    "\n",
    "# 字典 dict \n",
    "d = {\"a\": 1, \"b\": 2}\n",
    "for key in d:   # 默认迭代 key\n",
    "    print(key, d[key])\n",
    "\n",
    "for key, value in d.items():\n",
    "    print(key, value)\n",
    "\n",
    "# range 对象\n",
    "for i in range(5):\n",
    "    print(i)\n",
    "\n",
    "# 可迭代对象 (iterable)：能产生迭代器的“容器”。\n",
    "# 迭代器 (iterator)：实际执行逐个取值的对象。\n",
    "s = \"abc\"\n",
    "it = iter(s)   # 通过 iter() 得到迭代器\n",
    "print(next(it))  # 'a'\n",
    "print(next(it))  # 'b'\n",
    "print(next(it))  # 'c'\n",
    "\n"
   ]
  },
  {
   "cell_type": "code",
   "execution_count": null,
   "id": "98943de3",
   "metadata": {},
   "outputs": [],
   "source": [
    "# how to check if a list contains a certain element?\n",
    "\n",
    "# in\n",
    "s = \"as68\"\n",
    "chars = list(s)   # ['a','s','6','8']\n",
    "\n",
    "print(\"a\" in chars)   # True\n",
    "print(\"z\" in chars)   # False\n",
    "\n",
    "\n",
    "s = \"as68\"\n",
    "\n",
    "print(\"a\" in s)    # True   （字符 a 在字符串里）\n",
    "print(\"as\" in s)   # True   （子串 \"as\" 在里面）\n",
    "print(\"68\" in s)   # True   （子串 \"68\" 在里面）\n",
    "print(\"z\" in s)    # False\n",
    "\n",
    "\n",
    "\n",
    "# count()\n",
    "print(chars.count(\"a\") > 0)   # True\n",
    "print(chars.count(\"z\") > 0)   # False\n",
    "\n",
    "# index \n",
    "try:\n",
    "    i = chars.index(\"a\")\n",
    "    print(\"found at\", i)\n",
    "except ValueError:\n",
    "    print(\"not found\")\n"
   ]
  },
  {
   "cell_type": "code",
   "execution_count": null,
   "id": "2846bd86",
   "metadata": {},
   "outputs": [],
   "source": [
    "# 怎么用all()、set() 这样的工具\n",
    "\n",
    "# all(iterable)\n",
    "# 检查一个 可迭代对象 里的元素是否 全部为真。\n",
    "nums = [2, 4, 6]\n",
    "print(all(x % 2 == 0 for x in nums))   # True，所有数字都是偶数\n",
    "\n",
    "nums = [2, 3, 6]\n",
    "print(all(x % 2 == 0 for x in nums))   # False，因为有 3 不是偶数\n",
    "\n",
    "# 判断字符串是否全部是字母\n",
    "s = \"hello\"\n",
    "print(all(ch.isalpha() for ch in s))   # True\n",
    "\n",
    "# set(iterable),应用于快速去重，判断元素是否存在（集合查询比列表快）\n",
    "# 把一个可迭代对象转成 集合（去重 + 无序）。\n",
    "lst = [1, 2, 2, 3, 3, 3]\n",
    "print(set(lst))   # {1, 2, 3}\n",
    "\n",
    "# 判断元素是否存在（集合查询比列表快）：\n",
    "s = {\"apple\", \"banana\", \"pear\"}\n",
    "print(\"apple\" in s)   # True\n",
    "print(\"orange\" in s)  # False\n"
   ]
  },
  {
   "cell_type": "code",
   "execution_count": null,
   "id": "cfd4a46e",
   "metadata": {},
   "outputs": [],
   "source": [
    "# 如何用set 来做集合运算\n",
    "\n",
    "a = {1, 2, 3}\n",
    "b = {3, 4, 5}\n",
    "\n",
    "print(a | b)   # 并集 {1, 2, 3, 4, 5}\n",
    "print(a & b)   # 交集 {3}\n",
    "print(a - b)   # 差集 {1, 2}\n",
    "print(a ^ b)   # 对称差 {1, 2, 4, 5}\n",
    "\n",
    "# 判断一个集合是否是另外一个集合的子集合\n",
    "x = 246\n",
    "set(str(246)) = {\"2\",\"4\",\"6\"}\n",
    "{\"2\",\"4\",\"6\"} <= {\"0\",\"2\",\"4\",\"6\",\"8\"}   # ✅ True （所有位都是偶数）\n",
    "\n",
    "x = 243\n",
    "set(str(243)) = {\"2\",\"4\",\"3\"}\n",
    "{\"2\",\"4\",\"3\"} <= {\"0\",\"2\",\"4\",\"6\",\"8\"}   # ❌ False （有 \"3\"）\n"
   ]
  },
  {
   "cell_type": "markdown",
   "id": "062efdad",
   "metadata": {},
   "source": [
    "# 2022-10"
   ]
  },
  {
   "cell_type": "markdown",
   "id": "e9a90f54",
   "metadata": {},
   "source": [
    "## a) fifthlargest(L)"
   ]
  },
  {
   "cell_type": "code",
   "execution_count": null,
   "id": "af5a39df",
   "metadata": {},
   "outputs": [],
   "source": [
    "# task a, 4 points\n",
    "# Es sei eine Liste L von 5 oder mehr paarweise verschiedenen ganzen Zahlen gegeben.\n",
    "# Schreiben Sie eine Python-Funktion fifthlargest(L), die das fünftgrößte Element\n",
    "# von L zurückgibt. Es darf dabei L nur einmal durchlaufen werden.\n",
    "\n",
    "def fifthlargest(L):\n",
    "    pass\n"
   ]
  },
  {
   "cell_type": "markdown",
   "id": "665230f8",
   "metadata": {},
   "source": [
    "## b) partialsequence(n,k)"
   ]
  },
  {
   "cell_type": "code",
   "execution_count": null,
   "id": "5f427f7b",
   "metadata": {},
   "outputs": [],
   "source": [
    "# task b, 3 points\n",
    "# Es sei eine 13-stellige positive ganze Zahl n gegeben sowie eine 3-stellige positive\n",
    "# ganze Zahl k. Schreiben Sie eine Python-Funktion partialsequence(n,k), die True\n",
    "# zurückgibt, falls die Folge der Ziffern von n die Folge der Ziffern von k als konseku-\n",
    "# tive Teilfolge enthält. Es dürfen dabei ausschließlich arithmetische Operationen und\n",
    "# Vergleiche verwendet werden. Insbesondere dürfen weder n noch k in einen String\n",
    "# oder eine Liste umgewandelt werden.\n",
    "\n",
    "def partialsequence(n,k):\n",
    "    pass "
   ]
  },
  {
   "cell_type": "markdown",
   "id": "32eac734",
   "metadata": {},
   "source": [
    "## c) ascendingsequence(n)"
   ]
  },
  {
   "cell_type": "code",
   "execution_count": null,
   "id": "1f2b79e7",
   "metadata": {},
   "outputs": [],
   "source": [
    "# task c, 3 points\n",
    "# Es sei eine positive ganze Zahl n gegeben. Schreiben Sie eine Python-Funktion\n",
    "# ascendingsequence (n), die in Laufzeit O(logn) die Länge der längsten aufsteigen-\n",
    "# den konsekutiven Teilfolge von Ziffern von n zurückgibt.\n",
    "\n",
    "def ascendingsequence(n):\n",
    "    pass"
   ]
  },
  {
   "cell_type": "markdown",
   "id": "60169490",
   "metadata": {},
   "source": [
    "## update skills"
   ]
  },
  {
   "cell_type": "code",
   "execution_count": 8,
   "id": "dc5f7022",
   "metadata": {},
   "outputs": [
    {
     "name": "stdout",
     "output_type": "stream",
     "text": [
      "取一个数字最后的 n 位数，就是给它做 % 计算\n",
      "5\n",
      "45\n",
      "345\n",
      "/ → 普通除法，结果是浮点数, // → 整数除法（floor division）\n",
      "取一个数字前面的 n 位数，就是做 // 计算\n",
      "1234\n",
      "123\n",
      "12\n",
      "单纯除以一个数字，就是用 /\n",
      "1234.5\n",
      "123.45\n"
     ]
    }
   ],
   "source": [
    "print(\"取一个数字最后的 n 位数，就是给它做 % 计算\")\n",
    "print(12345 % 10)\n",
    "print(12345 % 100)\n",
    "print(12345 % 1000)\n",
    "print(\"/ → 普通除法，结果是浮点数, // → 整数除法（floor division）\")\n",
    "print(\"取一个数字前面的 n 位数，就是做 // 计算\")\n",
    "print(12345 // 10)\n",
    "print(12345 // 100)\n",
    "print(12345 // 1000)\n",
    "\n",
    "print(\"单纯除以一个数字，就是用 /\")\n",
    "print(12345 / 10)\n",
    "print(12345 / 100)"
   ]
  },
  {
   "cell_type": "code",
   "execution_count": null,
   "id": "1115aa26",
   "metadata": {},
   "outputs": [
    {
     "name": "stdout",
     "output_type": "stream",
     "text": [
      "None\n",
      "[1, 2, 3, 4]\n"
     ]
    }
   ],
   "source": [
    "# list 中自带的sort 函数能把数组升序排列\n",
    "\n",
    "l = list([3,4,1,2])\n",
    "print(l.sort())\n",
    "print(l)"
   ]
  },
  {
   "cell_type": "markdown",
   "id": "f2edf0c7",
   "metadata": {},
   "source": [
    "# 2018-07"
   ]
  },
  {
   "cell_type": "markdown",
   "id": "5b1be3ad",
   "metadata": {},
   "source": []
  },
  {
   "cell_type": "code",
   "execution_count": null,
   "id": "3e377fea",
   "metadata": {},
   "outputs": [],
   "source": []
  },
  {
   "cell_type": "markdown",
   "id": "26279e79",
   "metadata": {},
   "source": [
    "# 2018-10"
   ]
  },
  {
   "cell_type": "code",
   "execution_count": null,
   "id": "7be7879b",
   "metadata": {},
   "outputs": [],
   "source": []
  },
  {
   "cell_type": "markdown",
   "id": "9eafe621",
   "metadata": {},
   "source": [
    "# 2019-7"
   ]
  },
  {
   "cell_type": "markdown",
   "id": "edc1deb2",
   "metadata": {},
   "source": [
    "## a"
   ]
  },
  {
   "cell_type": "markdown",
   "id": "74e1cd8c",
   "metadata": {},
   "source": [
    "In dieser Aufgabe sollen Sie python3-Funktionen selbst schreiben. Sie dürfen dabei alle python3-Befehle benutzen, die ohne das Importieren zusätzlicher Pakete in python3 zur Verfügung stehen.\n",
    "\n",
    "Definition: Ein Young Tableau ist eine linksbündig ausgerichtete Auflistung von Reihen beschrifteter quadratischer Kästchen, sodass folgende Bedingungen erfüllt sind:\n",
    "\n",
    "Die Anzahl der Kästchen pro Reihe fällt schwach (von oben nach unten), in jedem Kästchen steht eine Zahl aus ℤ≥1, innerhalb jeder Reihe steigen die Zahlen schwach an (von links nach rechts) und innerhalb jeder Spalte steigen die Zahlen strikt an (von oben nach unten).\n",
    "\n",
    "(a) Ein Young Tableau T mit n Kästchen heißt standardisiert, falls jede Zahl der Menge {1, …, n} in genau einem Kästchen von T auftritt. In dieser Aufgabe werden Young Tableaus als Liste von Listen implementiert, welche die Reihen des Tableaus (von links nach rechts, von oben nach unten) durchlaufen.\n",
    "\n",
    "(i) Schreiben Sie eine Funktion is_standard(T), die für ein übergebenes Young Tableau T genau dann den booleschen Wert True zurückgibt, wenn T standardisiert ist, und ansonsten False zurückgibt. Sie dürfen annehmen, dass der Input einem korrekten Young Tableau entspricht.\n",
    "\n",
    "Ein standardisiertes Young Tableau ST wird konjugiert, indem Reihen und Spalten vertauscht werden. Das resultierende Young Tableau nennen wir das zu ST konjugierte Young Tableau. Im Folgenden sehen Sie links ein Young Tableau ST und rechts das zu ST konjugierte Young Tableau.\n",
    "\n",
    "(ii) Schreiben Sie eine Funktion get_conjugate(ST), die für ein standardisiertes Young Tableau ST das zu ST konjugierte Young Tableau zurückgibt."
   ]
  },
  {
   "cell_type": "code",
   "execution_count": null,
   "id": "74f4322a",
   "metadata": {},
   "outputs": [],
   "source": [
    "def is_standard(T:list):\n",
    "    # here is my solution\n",
    "        # 她的错误是，没有检查：当且仅当 T 中恰好包含 1..n 各一次\n",
    "    items = list([])\n",
    "    for l in T:\n",
    "        for i in l:\n",
    "            items.append(i)\n",
    "    s = set(items)\n",
    "    if(len(items) == len(s)):\n",
    "        return True\n",
    "    else:\n",
    "        return False\n",
    "ll = list([[1,2],[3],[1,2,3]])\n",
    "\n",
    "assert is_standard([[1,2],[3],[1,2,3]]) is False\n",
    "assert is_standard([[1,2,4],[3]]) is True        # n=4, 恰好 1..4\n",
    "assert is_standard([[1,1],[2]]) is False         # 有重复\n",
    "assert is_standard([[2,3],[1]]) is True          # 1..3 各一次，顺序无所谓\n",
    "assert is_standard([[1,2,3],[4]]) is True       # 缺 2"
   ]
  },
  {
   "cell_type": "code",
   "execution_count": null,
   "id": "393d11df",
   "metadata": {},
   "outputs": [],
   "source": [
    "# optimazation 1\n",
    "# actually, we don't care the concrete number, we only care about length.\n",
    "# use python style code\n",
    "def is_standard(T:list):\n",
    "    #上面用的2个for循环可以简化\n",
    "    flat = [x for row in T for x in row]\n",
    "\n",
    "    # 总格子数 n\n",
    "    n = sum(len(row) for row in T)\n",
    "\n",
    "    # jede Zahl der Menge {1, …, n}: set(flat) == set(range(1,n+1))\n",
    "    return len(flat) == n and set(flat) == set(range(1,n+1))"
   ]
  },
  {
   "cell_type": "code",
   "execution_count": null,
   "id": "30e33f7b",
   "metadata": {},
   "outputs": [],
   "source": [
    "# variation\n",
    "def is_standard(T):\n",
    "    \"\"\"\n",
    "    判断 Young Tableau T 是否 standardisiert(标准化）：\n",
    "    当且仅当 T 中恰好包含 1..n 各一次，其中 n 是 T 的总格子数。\n",
    "    假设 T 的形状满足 Young Tableau 的行列单调性，这里只检查数值集合。\n",
    "    \"\"\"\n",
    "    n = sum(len(row) for row in T)           # 总格子数\n",
    "    if n == 0:\n",
    "        return True                          # 空表格：1..0 为空集，视作标准化\n",
    "\n",
    "    seen = [False] * (n + 1)                 # 记录每个值是否出现过（索引 1..n）\n",
    "    cnt = 0\n",
    "\n",
    "    for row in T:\n",
    "        for x in row:\n",
    "            # 必须是整数，位于 1..n，且不能重复\n",
    "            if not isinstance(x, int) or x < 1 or x > n or seen[x]:\n",
    "                return False\n",
    "            seen[x] = True\n",
    "            cnt += 1\n",
    "\n",
    "    # 所有格子都被遍历，且 1..n 每个都出现一次\n",
    "    return cnt == n and all(seen[1:])"
   ]
  },
  {
   "cell_type": "code",
   "execution_count": null,
   "id": "d83c8d21",
   "metadata": {},
   "outputs": [
    {
     "name": "stdout",
     "output_type": "stream",
     "text": [
      "[[False, False, False, False], [False, False, False, False], [False, False, False, False], [False, False, False, False]]\n"
     ]
    },
    {
     "data": {
      "text/plain": [
       "[[1, 4, 9], [2, 5, 0], [3], [6]]"
      ]
     },
     "execution_count": 39,
     "metadata": {},
     "output_type": "execute_result"
    }
   ],
   "source": [
    "def get_conjugate(ST):\n",
    "    \n",
    "    row_length = [len(row) for row in ST]\n",
    "    max_row_length = max(row_length)\n",
    "    result = [ [False] * max_row_length for i in range(0,max_row_length)]\n",
    "    row_ind = -1\n",
    "\n",
    "    for row in ST:\n",
    "        row_ind +=1 \n",
    "        col_ind = -1\n",
    "        for x in row:\n",
    "            col_ind +=1\n",
    "            result[col_ind][row_ind] = x\n",
    "\n",
    "    final_result = []\n",
    "    for row in result:\n",
    "        tmp = []\n",
    "        for x in row:\n",
    "            if not isinstance(x,bool):\n",
    "                tmp.append(x)\n",
    "        final_result.append(tmp)\n",
    "    return final_result\n",
    "\n",
    "get_conjugate([[1,2,3,6],[4,5],[9,0]])"
   ]
  },
  {
   "cell_type": "code",
   "execution_count": 40,
   "id": "962d6e3c",
   "metadata": {},
   "outputs": [],
   "source": [
    "# optimazation\n",
    "def get_conjugate(ST):\n",
    "    \"\"\"\n",
    "    Return the conjugate Young tableau of a standard Young tableau ST.\n",
    "    ST is a list of rows with weakly decreasing lengths.\n",
    "    \"\"\"\n",
    "    if not ST:\n",
    "        return []\n",
    "\n",
    "    max_len = max(len(row) for row in ST)\n",
    "    res = []\n",
    "\n",
    "    # column j of ST becomes row j of the conjugate\n",
    "    for j in range(max_len):\n",
    "        new_row = []\n",
    "        for i in range(len(ST)):\n",
    "            if j < len(ST[i]):           # cell (i, j) exists\n",
    "                new_row.append(ST[i][j]) # move it to (j, i)\n",
    "        res.append(new_row)\n",
    "    return res\n",
    "\n",
    "T = [[1,2,4],[3,5],[6]]\n",
    "# Conjugate should be:\n",
    "#  1  3  6\n",
    "#  2  5\n",
    "#  4\n",
    "assert get_conjugate(T) == [[1,3,6],[2,5],[4]]"
   ]
  },
  {
   "cell_type": "code",
   "execution_count": 27,
   "id": "1c457ab6",
   "metadata": {},
   "outputs": [
    {
     "data": {
      "text/plain": [
       "False"
      ]
     },
     "execution_count": 27,
     "metadata": {},
     "output_type": "execute_result"
    }
   ],
   "source": [
    "result = [ [False]*5 for i in range(0,4)]\n",
    "result\n",
    "result[1][2]"
   ]
  },
  {
   "cell_type": "code",
   "execution_count": null,
   "id": "d5a82489",
   "metadata": {},
   "outputs": [
    {
     "data": {
      "text/plain": [
       "[0, 7, 1]"
      ]
     },
     "execution_count": 12,
     "metadata": {},
     "output_type": "execute_result"
    }
   ],
   "source": [
    "def func2(K):\n",
    "    K.sort(key = lambda e : e[2])\n",
    "    return K[0]\n",
    "\n",
    "func2([[1,2,9],[3,4,6],[0,7,1]])\n",
    "\n",
    "# 排序的依据是每个元素 e 的 第三个分量（索引2）\n",
    "# K = [[1,2,5], [3,4,1], [7,8,3]]\n",
    "# K.sort(key=lambda e: e[2])\n",
    "# 排序后 -> [[3,4,1], [7,8,3], [1,2,5]]"
   ]
  },
  {
   "cell_type": "markdown",
   "id": "e5bfdb4c",
   "metadata": {},
   "source": [
    "## b"
   ]
  },
  {
   "cell_type": "code",
   "execution_count": null,
   "id": "7394fa7f",
   "metadata": {},
   "outputs": [],
   "source": [
    "def get_no_carry(p,n,m):\n",
    "    pass"
   ]
  },
  {
   "cell_type": "markdown",
   "id": "623dca20",
   "metadata": {},
   "source": [
    "## update skills"
   ]
  },
  {
   "cell_type": "code",
   "execution_count": 10,
   "id": "f7624e00",
   "metadata": {},
   "outputs": [
    {
     "name": "stdout",
     "output_type": "stream",
     "text": [
      "2\n",
      "[3, 4, 1]\n"
     ]
    }
   ],
   "source": [
    "l = list([3,4,1,2])\n",
    "a = l.pop()\n",
    "print(a)\n",
    "print(l)"
   ]
  },
  {
   "cell_type": "code",
   "execution_count": 17,
   "id": "2154dc3c",
   "metadata": {},
   "outputs": [
    {
     "name": "stdout",
     "output_type": "stream",
     "text": [
      "0\n",
      "[False, False, False]\n"
     ]
    }
   ],
   "source": [
    "print(False * 3)\n",
    "print([False] * 3)\n"
   ]
  },
  {
   "cell_type": "code",
   "execution_count": 18,
   "id": "0e9ad19d",
   "metadata": {},
   "outputs": [
    {
     "name": "stdout",
     "output_type": "stream",
     "text": [
      "True\n"
     ]
    }
   ],
   "source": [
    "print(isinstance(2,int))"
   ]
  },
  {
   "cell_type": "code",
   "execution_count": 2,
   "id": "71facfc9",
   "metadata": {},
   "outputs": [
    {
     "name": "stdout",
     "output_type": "stream",
     "text": [
      "[1, 2]\n",
      "[3]\n",
      "[1, 2, 3]\n",
      "1\n",
      "2\n",
      "3\n"
     ]
    }
   ],
   "source": [
    "# list is iterable\n",
    "ll = list([[1,2],[3],[1,2,3]])\n",
    "for l in ll:\n",
    "    print(l)\n",
    "l = list([1,2,3])\n",
    "for i in l:\n",
    "    print(i)"
   ]
  },
  {
   "cell_type": "code",
   "execution_count": null,
   "id": "6147fd32",
   "metadata": {},
   "outputs": [],
   "source": [
    "# 创建新的空列表\n",
    "l = []     # 最常见、最推荐\n",
    "l = list() # 功能和 [] 完全一样，只是显得冗长一点。\n",
    "l = list([])  # 这实际上是先创建一个空列表 []，然后再把它传给 list()，\n",
    "              # 相当于“复制”了一次空列表，完全多余。"
   ]
  },
  {
   "cell_type": "code",
   "execution_count": 6,
   "id": "f15a4b86",
   "metadata": {},
   "outputs": [
    {
     "name": "stdout",
     "output_type": "stream",
     "text": [
      "<class 'list'>\n"
     ]
    }
   ],
   "source": [
    "l = list([])\n",
    "print(type(l))"
   ]
  },
  {
   "cell_type": "markdown",
   "id": "4169374c",
   "metadata": {},
   "source": [
    "# 2019-10"
   ]
  },
  {
   "cell_type": "code",
   "execution_count": null,
   "id": "807a90f9",
   "metadata": {},
   "outputs": [],
   "source": []
  },
  {
   "cell_type": "markdown",
   "id": "24bff072",
   "metadata": {},
   "source": [
    "# 2017-07"
   ]
  },
  {
   "cell_type": "code",
   "execution_count": null,
   "id": "ebf4c14b",
   "metadata": {},
   "outputs": [],
   "source": []
  },
  {
   "cell_type": "markdown",
   "id": "33968c56",
   "metadata": {},
   "source": [
    "# 2017-10"
   ]
  },
  {
   "cell_type": "code",
   "execution_count": null,
   "id": "3fd4d8d0",
   "metadata": {},
   "outputs": [],
   "source": []
  },
  {
   "cell_type": "markdown",
   "id": "fe8fdd11",
   "metadata": {},
   "source": [
    "# 2015-09"
   ]
  }
 ],
 "metadata": {
  "kernelspec": {
   "display_name": "base",
   "language": "python",
   "name": "python3"
  },
  "language_info": {
   "codemirror_mode": {
    "name": "ipython",
    "version": 3
   },
   "file_extension": ".py",
   "mimetype": "text/x-python",
   "name": "python",
   "nbconvert_exporter": "python",
   "pygments_lexer": "ipython3",
   "version": "3.12.7"
  }
 },
 "nbformat": 4,
 "nbformat_minor": 5
}

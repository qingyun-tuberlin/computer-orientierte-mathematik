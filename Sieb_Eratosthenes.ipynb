{
 "cells": [
  {
   "cell_type": "code",
   "execution_count": null,
   "id": "5fde5379",
   "metadata": {},
   "outputs": [],
   "source": [
    "import math"
   ]
  },
  {
   "cell_type": "code",
   "execution_count": null,
   "id": "c29dadab",
   "metadata": {},
   "outputs": [
    {
     "name": "stdout",
     "output_type": "stream",
     "text": [
      "Test Pass ✅\n"
     ]
    }
   ],
   "source": [
    "# Das Sieb des Eratosthenes\n",
    "# Laufzeit ist in O(nlogn), sogar in O(nloglogn)\n",
    "def siebEratosthenes (n):\n",
    "    # n = int(input(\"Give me a number.\"))\n",
    "    is_prime = [True] * (n+1)\n",
    "    is_prime[0] = is_prime[1] = False\n",
    "\n",
    "    result = []\n",
    "    for i in range(2 ,int(math.sqrt(n))+1):\n",
    "        if(is_prime[i]):\n",
    "            for j in range(i*i, n+1,i):\n",
    "                is_prime[j] = False\n",
    "    for i in range(2,n):\n",
    "        if is_prime[i]:\n",
    "            result.append(i)\n",
    "\n",
    "    return result \n",
    "\n",
    "def test_siebEratosthenes():\n",
    "    r = siebEratosthenes(10)\n",
    "    assert r == [2, 3, 5, 7]\n",
    "    print(\"Test Pass ✅\")\n",
    "\n",
    "test_siebEratosthenes()"
   ]
  }
 ],
 "metadata": {
  "kernelspec": {
   "display_name": "base",
   "language": "python",
   "name": "python3"
  },
  "language_info": {
   "codemirror_mode": {
    "name": "ipython",
    "version": 3
   },
   "file_extension": ".py",
   "mimetype": "text/x-python",
   "name": "python",
   "nbconvert_exporter": "python",
   "pygments_lexer": "ipython3",
   "version": "3.12.7"
  }
 },
 "nbformat": 4,
 "nbformat_minor": 5
}

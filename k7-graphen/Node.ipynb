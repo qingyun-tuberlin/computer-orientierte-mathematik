{
 "cells": [
  {
   "cell_type": "markdown",
   "id": "f944b5ce",
   "metadata": {},
   "source": [
    "# Node"
   ]
  },
  {
   "cell_type": "markdown",
   "id": "8298e062",
   "metadata": {},
   "source": [
    "Node"
   ]
  },
  {
   "cell_type": "code",
   "execution_count": null,
   "id": "bb141027",
   "metadata": {},
   "outputs": [
    {
     "name": "stdout",
     "output_type": "stream",
     "text": [
      "# print memory address\n",
      "4394044832\n",
      "0x105e7cda0\n",
      "# specify __str__ or __repr__\n",
      "Node(1) -> [2, 3]\n",
      "Node(1) -> [2, 3]\n",
      "Node(1) -> [2, 3]\n",
      "\n",
      "\n",
      "Node(1)\n",
      "Node(1)\n",
      "[Node(1)]\n",
      "[Node(2), Node(3)]\n",
      "[Node(2), Node(3)]\n"
     ]
    }
   ],
   "source": [
    "class Node:\n",
    "    def __init__(self, value):\n",
    "        self.value = value  # 构造函数，用于创建节点。value 存储节点的数据。\n",
    "        self.neighbors = []  # 一个列表，用来存储所有与当前节点直接相连的其他 Node 对象。\n",
    "\n",
    "    # 用于将另一个节点添加到当前节点的相邻节点列表中。\n",
    "    def add_neighbor(self, neighbor_node): \n",
    "        if neighbor_node not in self.neighbors:\n",
    "            self.neighbors.append(neighbor_node)\n",
    "    \n",
    "    # without __repr__ (or __str__), when you print(n.neighbors), \n",
    "    # this will give you memory address\n",
    "    # e.g. <__main__.Node object at 0x104a63200>\n",
    "    def __repr__(self):\n",
    "        # Developer-friendly (good for debugging, lists, etc.)\n",
    "        return f\"Node({self.value})\"\n",
    "\n",
    "    def __str__(self):\n",
    "        # User-friendly (nice structured display)\n",
    "        neighbor_values = [n.value for n in self.neighbors]\n",
    "        return f\"Node({self.value}) -> {neighbor_values}\"\n",
    "    \n",
    "n = Node(1)\n",
    "n2 = Node(2)\n",
    "n3 = Node(3)\n",
    "n.add_neighbor(n2)\n",
    "n.add_neighbor(n3)\n",
    " \n",
    "print(\"# print memory address\")\n",
    "print(id(n))       # integer memory address (in decimal)\n",
    "print(hex(id(n)))  # memory address in hex (like default repr)\n",
    "\n",
    "print(\"# specify __str__ or __repr__\")\n",
    "print(n)            # calls __str__\n",
    "print(str(n))       # calls __str__\n",
    "print(n.__str__())   # Direct call to dunder\n",
    "\n",
    "print(\"\\n\")\n",
    "\n",
    "print(repr(n))      # calls __repr__\n",
    "print(n.__repr__()) # Direct call to dunder\n",
    "print([n])          # list prints __repr__ of elements\n",
    "print([n2, n3])     # list prints __repr__ of elements\n",
    "print(n.neighbors)  # list prints __repr__ of elements\n"
   ]
  },
  {
   "cell_type": "markdown",
   "id": "73326c7f",
   "metadata": {},
   "source": [
    "# Skills"
   ]
  },
  {
   "cell_type": "markdown",
   "id": "7607e301",
   "metadata": {},
   "source": [
    "distinguish list.append() and list.__add__()"
   ]
  },
  {
   "cell_type": "code",
   "execution_count": 4,
   "id": "40268b94",
   "metadata": {},
   "outputs": [
    {
     "name": "stdout",
     "output_type": "stream",
     "text": [
      "[1, 2, 3, 4]\n",
      "None\n",
      "[1, 2, 3, 4, 5]\n"
     ]
    }
   ],
   "source": [
    "my_list = [1, 2, 3]\n",
    "my_list.append(4)\n",
    "print(my_list)\n",
    "# 输出: [1, 2, 3, 4]\n",
    "\n",
    "# my_list.append() 直接在原列表上操作，不返回新列表\n",
    "result = my_list.append(5)\n",
    "print(result)\n",
    "# 输出: None\n",
    "print(my_list)\n",
    "# 输出: [1, 2, 3, 4, 5]"
   ]
  },
  {
   "cell_type": "code",
   "execution_count": null,
   "id": "522a9cfc",
   "metadata": {},
   "outputs": [],
   "source": [
    "my_list = [1, 2, 3]\n",
    "my_list.append(4)\n",
    "print(my_list)\n",
    "# 输出: [1, 2, 3, 4]\n",
    "\n",
    "# my_list.append() 直接在原列表上操作，不返回新列表\n",
    "result = my_list.append(5)\n",
    "print(result)\n",
    "# 输出: None\n",
    "print(my_list)\n",
    "# 输出: [1, 2, 3, 4, 5]"
   ]
  },
  {
   "cell_type": "code",
   "execution_count": 3,
   "id": "0d4163fc",
   "metadata": {},
   "outputs": [
    {
     "name": "stdout",
     "output_type": "stream",
     "text": [
      "[1, 2, 3, 4, 5, 6]\n",
      "[1, 2, 3]\n",
      "[4, 5, 6]\n",
      "[1, 2, 3, 4, 5, 6]\n"
     ]
    }
   ],
   "source": [
    "list1 = [1, 2, 3]\n",
    "list2 = [4, 5, 6]\n",
    "\n",
    "# 使用 + 运算符，这会调用 list.__add__()\n",
    "new_list = list1 + list2\n",
    "print(new_list)\n",
    "# 输出: [1, 2, 3, 4, 5, 6]\n",
    "\n",
    "# 原始列表没有改变\n",
    "print(list1)\n",
    "# 输出: [1, 2, 3]\n",
    "print(list2)\n",
    "# 输出: [4, 5, 6]\n",
    "\n",
    "new_list = list1.__add__(list2)\n",
    "print(new_list)\n",
    "# 输出: [1, 2, 3, 4, 5, 6]"
   ]
  }
 ],
 "metadata": {
  "kernelspec": {
   "display_name": "base",
   "language": "python",
   "name": "python3"
  },
  "language_info": {
   "codemirror_mode": {
    "name": "ipython",
    "version": 3
   },
   "file_extension": ".py",
   "mimetype": "text/x-python",
   "name": "python",
   "nbconvert_exporter": "python",
   "pygments_lexer": "ipython3",
   "version": "3.12.7"
  }
 },
 "nbformat": 4,
 "nbformat_minor": 5
}

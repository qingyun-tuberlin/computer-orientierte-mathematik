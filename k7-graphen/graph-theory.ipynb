{
 "cells": [
  {
   "cell_type": "code",
   "execution_count": 12,
   "id": "d1843827",
   "metadata": {},
   "outputs": [],
   "source": [
    "from collections import deque, defaultdict"
   ]
  },
  {
   "cell_type": "markdown",
   "id": "73a4b464",
   "metadata": {},
   "source": [
    "## Node"
   ]
  },
  {
   "cell_type": "code",
   "execution_count": null,
   "id": "e69523f6",
   "metadata": {},
   "outputs": [
    {
     "name": "stdout",
     "output_type": "stream",
     "text": [
      "[1, 2]\n"
     ]
    },
    {
     "data": {
      "text/plain": [
       "'Node(1)'"
      ]
     },
     "execution_count": 10,
     "metadata": {},
     "output_type": "execute_result"
    }
   ],
   "source": [
    "class Node:\n",
    "    def __init__(self, value):\n",
    "        self.value = value \n",
    "        self.neighbors = []\n",
    "    \n",
    "    def add_neighbor(self, n):\n",
    "        if n not in self.neighbors:\n",
    "            self.neighbors.append(n)\n",
    "    \n",
    "    def __str__(self):\n",
    "        neighbor_values = [n.value for n in self.neighbors]\n",
    "        print(neighbor_values)\n",
    "        # return f\"Node({self.value}) -> {neighbor_values}\"\n",
    "    def __repr__(self):\n",
    "        # Developer-friendly (good for debugging, lists, etc.)\n",
    "        return f\"Node({self.value})\"\n",
    "\n",
    "n1 = Node(1)\n",
    "n2 = Node(2)\n",
    "n3 = Node(3)\n",
    "\n",
    "n1.add_neighbor(n1)\n",
    "n1.add_neighbor(n2)\n",
    "\n",
    "n1.__str__()\n",
    "n1.__repr__()\n"
   ]
  },
  {
   "cell_type": "markdown",
   "id": "126ee475",
   "metadata": {},
   "source": [
    "## Graph"
   ]
  },
  {
   "cell_type": "code",
   "execution_count": 67,
   "id": "f37fa1ce",
   "metadata": {},
   "outputs": [
    {
     "name": "stdout",
     "output_type": "stream",
     "text": [
      "defaultdict(<class 'set'>, {'A': set(), 'B': set(), 'C': set()})\n",
      "defaultdict(<class 'set'>, {'A': {'B', 'C'}, 'B': {'A'}, 'C': {'A'}})\n",
      "defaultdict(<class 'set'>, {'A': {'C'}, 'B': set(), 'C': {'A'}})\n",
      "defaultdict(<class 'set'>, {'B': set(), 'C': set()})\n"
     ]
    }
   ],
   "source": [
    "class Graph:\n",
    "    def __init__(self, directed : bool= True):\n",
    "        self.directed = directed\n",
    "        self.adj = defaultdict(set)\n",
    "    \n",
    "    def add_node(self,u):\n",
    "        _ = self.adj[u]\n",
    "        return u\n",
    "    \n",
    "    def add_edge(self, u, v):\n",
    "        self.add_node(u)\n",
    "        self.add_node(v)\n",
    "        self.adj[u].add(v)\n",
    "        if not self.directed:\n",
    "            self.adj[v].add(u)\n",
    "\n",
    "    def remove_edge(self, u, v):\n",
    "        if u in self.adj:\n",
    "            self.adj[u].discard(v)\n",
    "        if not self.directed and v in self.adj:\n",
    "            self.adj[v].discard(u)\n",
    "    \n",
    "    def remove_node(self,u):\n",
    "        if u in self.adj:\n",
    "            self.adj.pop(u)\n",
    "        for nbrs in self.adj.values():\n",
    "            nbrs.discard(u)\n",
    "            # 3. nbrs.discard(u)\n",
    "            # 对每个邻居集合，删除 u。\n",
    "            # discard 的特点是：如果元素存在就删掉；如果不存在就啥也不做（不会报错）。\n",
    "            # 这样就能把所有 指向 u 的边 去掉   \n",
    "\n",
    "    def neighbors(self, u):\n",
    "        return self.adj[u]\n",
    "\n",
    "    def has_edge(self, u, v):\n",
    "        return v in self.adj[u]\n",
    "    \n",
    "\n",
    "g = Graph(False)\n",
    "g.add_node(\"A\")     \n",
    "g.add_node(\"B\")\n",
    "g.add_node(\"C\")\n",
    "print(g.adj)\n",
    "g.add_edge(\"A\", \"B\")\n",
    "g.add_edge(\"A\", \"C\")\n",
    "print(g.adj)\n",
    "g.remove_edge(\"A\", \"B\")\n",
    "print(g.adj)\n",
    "g.remove_node(\"A\")\n",
    "print(g.adj)\n",
    "\n"
   ]
  },
  {
   "cell_type": "markdown",
   "id": "4c65c075",
   "metadata": {},
   "source": [
    "## Skills"
   ]
  },
  {
   "cell_type": "code",
   "execution_count": null,
   "id": "067e6c97",
   "metadata": {},
   "outputs": [
    {
     "name": "stdout",
     "output_type": "stream",
     "text": [
      "defaultdict(<class 'list'>, {'a': [1]})\n",
      "defaultdict(<class 'set'>, {'a': {1}})\n",
      "defaultdict(<class 'int'>, {'a': 1})\n",
      "hello\n"
     ]
    }
   ],
   "source": [
    "# defaultdict(default_factory)\n",
    "# 这里的 default_factory 必须是一个 可调用对象 (callable)，比如 list、set、int、str。\n",
    "# 它会在访问不存在的 key 时被调用，生成一个默认值。\n",
    "# 如果你想要其他的默认值，则应该传入一个返回 \"hello\" 的函数，比如用 lambda\n",
    "a = defaultdict(list)\n",
    "a[\"a\"].append(1)\n",
    "print(a)\n",
    "\n",
    "a = defaultdict(set)\n",
    "a[\"a\"].add(1)\n",
    "print(a)\n",
    "\n",
    "a = defaultdict(int)\n",
    "a[\"a\"] = 1\n",
    "print(a)\n",
    "\n",
    "a = defaultdict(lambda: \"hello\")\n",
    "\n",
    "print(a[\"a\"])"
   ]
  },
  {
   "cell_type": "code",
   "execution_count": 66,
   "id": "d7bcf497",
   "metadata": {},
   "outputs": [
    {
     "name": "stdout",
     "output_type": "stream",
     "text": [
      "defaultdict(<class 'set'>, {'a': {1}, 'b': {2}, 'c': {3}})\n",
      "True\n",
      "{1}\n",
      "hello\n",
      "dict_keys(['b', 'c'])\n",
      "dict_values([{2}, {3}])\n"
     ]
    }
   ],
   "source": [
    "a = defaultdict(set)\n",
    "a[\"a\"].add(1)\n",
    "a[\"b\"].add(2)\n",
    "a[\"c\"].add(3)\n",
    "print(a)\n",
    "print(\"a\" in a )\n",
    "# pop(key, default) 从字典里删除一个键并返回它的值。\n",
    "# 如果键不存在，就返回 default，不会报错。\n",
    "# 如果没有default 并且 key 不存在，那么会报错\n",
    "print(a.pop(\"a\", \"hello\"))\n",
    "print(a.pop(\"g\", \"hello\"))\n",
    "print(a.keys())\n",
    "print(a.values())\n",
    "# print(a.pop(\"p\"))"
   ]
  },
  {
   "cell_type": "code",
   "execution_count": 51,
   "id": "a40e9218",
   "metadata": {},
   "outputs": [
    {
     "name": "stdout",
     "output_type": "stream",
     "text": [
      "1\n",
      "defaultdict(<class 'set'>, {'A': set()})\n",
      "2\n",
      "defaultdict(<class 'set'>, {'A': {'B'}})\n",
      "defaultdict(<class 'set'>, {'A': set()})\n"
     ]
    }
   ],
   "source": [
    "print(1)\n",
    "# 1. _ = self.adj[u]\n",
    "# 前提：self.adj 是 defaultdict(set)。\n",
    "# 当访问一个不存在的 key 时，defaultdict 会 自动调用 set()，并把结果存进去。\n",
    "\n",
    "from collections import defaultdict\n",
    "\n",
    "adj = defaultdict(set)\n",
    "\n",
    "_ = adj[\"A\"]    # 自动生成 adj[\"A\"] = set()\n",
    "print(adj)      # defaultdict(<class 'set'>, {'A': set()})\n",
    "print(2)\n",
    "# 2. self.adj[u] = set()\n",
    "# 这一步是显式赋值，而不是触发 defaultdict 的机制。\n",
    "# 它会直接覆盖掉原来的值，即使这个 key 已经存在。\n",
    "\n",
    "adj = defaultdict(set)\n",
    "adj[\"A\"].add(\"B\")\n",
    "print(adj)  # defaultdict(<class 'set'>, {'A': {'B'}})\n",
    "\n",
    "adj[\"A\"] = set()   # 手动覆盖\n",
    "print(adj)         # defaultdict(<class 'set'>, {'A': set()})\n"
   ]
  },
  {
   "cell_type": "code",
   "execution_count": null,
   "id": "e334dbbf",
   "metadata": {},
   "outputs": [
    {
     "name": "stdout",
     "output_type": "stream",
     "text": [
      "{1, 2, 3, 4}\n",
      "{2, 3, 4}\n",
      "2\n",
      "{3, 4}\n"
     ]
    }
   ],
   "source": [
    "# basic operation of set\n",
    "a = set()\n",
    "a.add(1)\n",
    "a.add(2)\n",
    "a.add(3)\n",
    "a.add(4)\n",
    "print(a)\n",
    "a.discard(1)\n",
    "print(a)\n",
    "print(a.pop())\n",
    "print(a)\n",
    "\n",
    "a.discard(100) # don't need to check if an element exists"
   ]
  }
 ],
 "metadata": {
  "kernelspec": {
   "display_name": "base",
   "language": "python",
   "name": "python3"
  },
  "language_info": {
   "codemirror_mode": {
    "name": "ipython",
    "version": 3
   },
   "file_extension": ".py",
   "mimetype": "text/x-python",
   "name": "python",
   "nbconvert_exporter": "python",
   "pygments_lexer": "ipython3",
   "version": "3.12.7"
  }
 },
 "nbformat": 4,
 "nbformat_minor": 5
}

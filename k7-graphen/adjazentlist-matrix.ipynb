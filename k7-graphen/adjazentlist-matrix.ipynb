{
 "cells": [
  {
   "cell_type": "code",
   "execution_count": 9,
   "id": "cc3a4848",
   "metadata": {},
   "outputs": [],
   "source": [
    "# networkx 是 Python 的图论库，内部既能存邻接表也能转邻接矩阵。\n",
    "import networkx as nx\n",
    "import numpy as np"
   ]
  },
  {
   "cell_type": "code",
   "execution_count": 2,
   "id": "538e3506",
   "metadata": {},
   "outputs": [],
   "source": [
    "# 构造图\n",
    "G = nx.Graph()\n",
    "G.add_edges_from([(\"A\", \"B\"), (\"A\", \"C\"), (\"B\", \"D\")])"
   ]
  },
  {
   "cell_type": "code",
   "execution_count": 3,
   "id": "5833fb0d",
   "metadata": {},
   "outputs": [
    {
     "name": "stdout",
     "output_type": "stream",
     "text": [
      "{'A': AtlasView({'B': {}, 'C': {}}), 'B': AtlasView({'A': {}, 'D': {}}), 'C': AtlasView({'A': {}}), 'D': AtlasView({'B': {}})}\n"
     ]
    }
   ],
   "source": [
    "# 邻接表 (dict of dict)\n",
    "print(dict(G.adj))"
   ]
  },
  {
   "cell_type": "code",
   "execution_count": 5,
   "id": "a692ef70",
   "metadata": {},
   "outputs": [
    {
     "name": "stdout",
     "output_type": "stream",
     "text": [
      "[[0. 1. 1. 0.]\n",
      " [1. 0. 0. 1.]\n",
      " [1. 0. 0. 0.]\n",
      " [0. 1. 0. 0.]]\n"
     ]
    }
   ],
   "source": [
    "# 邻接矩阵 (numpy array)\n",
    "A = nx.to_numpy_array(G, nodelist=[\"A\",\"B\",\"C\",\"D\"])\n",
    "print(A)"
   ]
  },
  {
   "cell_type": "markdown",
   "id": "82aed056",
   "metadata": {},
   "source": [
    "## Adjaceny List"
   ]
  },
  {
   "cell_type": "code",
   "execution_count": 10,
   "id": "eeef8d6a",
   "metadata": {},
   "outputs": [
    {
     "name": "stdout",
     "output_type": "stream",
     "text": [
      "A 邻居: B\n",
      "A 邻居: C\n"
     ]
    }
   ],
   "source": [
    "# 邻接表表示\n",
    "adj_list = {\n",
    "    \"A\": [\"B\", \"C\"],\n",
    "    \"B\": [\"A\", \"D\"],\n",
    "    \"C\": [\"A\"],\n",
    "    \"D\": [\"B\"]\n",
    "}\n",
    "\n",
    "# 遍历邻居\n",
    "for neighbor in adj_list[\"A\"]:\n",
    "    print(\"A 邻居:\", neighbor)\n"
   ]
  },
  {
   "cell_type": "code",
   "execution_count": 7,
   "id": "3201a9ab",
   "metadata": {},
   "outputs": [
    {
     "name": "stdout",
     "output_type": "stream",
     "text": [
      "{'A': ['B', 'C'], 'B': ['A', 'D'], 'C': ['A'], 'D': ['B']}\n"
     ]
    }
   ],
   "source": [
    "from collections import defaultdict\n",
    "\n",
    "adj_list = defaultdict(list)\n",
    "edges = [(\"A\", \"B\"), (\"A\", \"C\"), (\"B\", \"D\")]\n",
    "\n",
    "# 构造无向图的邻接表\n",
    "for u, v in edges:\n",
    "    adj_list[u].append(v)\n",
    "    adj_list[v].append(u)\n",
    "\n",
    "print(dict(adj_list))\n"
   ]
  },
  {
   "cell_type": "markdown",
   "id": "6469e4e3",
   "metadata": {},
   "source": [
    "## Adjacency Matrix"
   ]
  },
  {
   "cell_type": "code",
   "execution_count": 8,
   "id": "d683e4b2",
   "metadata": {},
   "outputs": [
    {
     "name": "stdout",
     "output_type": "stream",
     "text": [
      "[0, 1, 1, 0]\n",
      "[1, 0, 0, 1]\n",
      "[1, 0, 0, 0]\n",
      "[0, 1, 0, 0]\n"
     ]
    }
   ],
   "source": [
    "vertices = [\"A\", \"B\", \"C\", \"D\"]\n",
    "n = len(vertices)\n",
    "\n",
    "# 初始化 0 矩阵\n",
    "adj_matrix = [[0] * n for _ in range(n)]\n",
    "\n",
    "edges = [(\"A\", \"B\"), (\"A\", \"C\"), (\"B\", \"D\")]\n",
    "\n",
    "# 建立索引映射：顶点 → 行列下标\n",
    "index = {v: i for i, v in enumerate(vertices)}\n",
    "\n",
    "# 填充矩阵\n",
    "for u, v in edges:\n",
    "    i, j = index[u], index[v]\n",
    "    adj_matrix[i][j] = 1\n",
    "    adj_matrix[j][i] = 1  # 无向图对称\n",
    "\n",
    "# 打印矩阵\n",
    "for row in adj_matrix:\n",
    "    print(row)\n"
   ]
  },
  {
   "cell_type": "code",
   "execution_count": null,
   "id": "c089c024",
   "metadata": {},
   "outputs": [],
   "source": []
  }
 ],
 "metadata": {
  "kernelspec": {
   "display_name": "base",
   "language": "python",
   "name": "python3"
  },
  "language_info": {
   "codemirror_mode": {
    "name": "ipython",
    "version": 3
   },
   "file_extension": ".py",
   "mimetype": "text/x-python",
   "name": "python",
   "nbconvert_exporter": "python",
   "pygments_lexer": "ipython3",
   "version": "3.12.7"
  }
 },
 "nbformat": 4,
 "nbformat_minor": 5
}

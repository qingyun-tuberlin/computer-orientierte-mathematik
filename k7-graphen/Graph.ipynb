{
 "cells": [
  {
   "cell_type": "markdown",
   "id": "edce6f08",
   "metadata": {},
   "source": [
    "# Graph"
   ]
  },
  {
   "cell_type": "markdown",
   "id": "c93bfbfc",
   "metadata": {},
   "source": [
    "## Lightweight adjacency-list"
   ]
  },
  {
   "cell_type": "code",
   "execution_count": 10,
   "id": "f33c5918",
   "metadata": {},
   "outputs": [],
   "source": [
    "from collections import deque, defaultdict\n",
    "\n",
    "class Graph:\n",
    "    def __init__(self, directed: bool = True):\n",
    "        self.directed = directed\n",
    "        self.adj = defaultdict(set)   # node -> set of neighbor nodes\n",
    "\n",
    "    # --- Construction ---\n",
    "    def add_node(self, u):\n",
    "        _ = self.adj[u]               # ensures key exists\n",
    "        return u\n",
    "\n",
    "    def add_edge(self, u, v):\n",
    "        self.add_node(u)\n",
    "        self.add_node(v)\n",
    "        self.adj[u].add(v)\n",
    "        if not self.directed:\n",
    "            self.adj[v].add(u)\n",
    "\n",
    "    def remove_edge(self, u, v):\n",
    "        self.adj[u].discard(v)\n",
    "        if not self.directed:\n",
    "            self.adj[v].discard(u)\n",
    "\n",
    "    def remove_node(self, u):\n",
    "        self.adj.pop(u, None)\n",
    "        for nbrs in self.adj.values():\n",
    "            nbrs.discard(u)\n",
    "\n",
    "    def neighbors(self, u):\n",
    "        return self.adj[u]\n",
    "\n",
    "    def has_edge(self, u, v):\n",
    "        return v in self.adj[u]\n",
    "\n",
    "    # --- Traversals ---\n",
    "    def bfs(self, start):\n",
    "        seen, order = set([start]), []\n",
    "        q = deque([start])\n",
    "        while q:\n",
    "            u = q.popleft()\n",
    "            order.append(u)\n",
    "            for v in self.adj[u]:\n",
    "                if v not in seen:\n",
    "                    seen.add(v); q.append(v)\n",
    "        return order\n",
    "\n",
    "    def dfs(self, start):\n",
    "        seen, order = set(), []\n",
    "        stack = [start]\n",
    "        while stack:\n",
    "            u = stack.pop()\n",
    "            if u in seen: \n",
    "                continue\n",
    "            seen.add(u); order.append(u)\n",
    "            # reverse-sorted for deterministic order (optional)\n",
    "            for v in sorted(self.adj[u], reverse=True):\n",
    "                if v not in seen:\n",
    "                    stack.append(v)\n",
    "        return order\n",
    "\n",
    "    # Shortest path in an unweighted graph (BFS parents)\n",
    "    def shortest_path(self, src, dst):\n",
    "        if src == dst: \n",
    "            return [src]\n",
    "        parent = {src: None}\n",
    "        q = deque([src])\n",
    "        while q:\n",
    "            u = q.popleft()\n",
    "            for v in self.adj[u]:\n",
    "                if v not in parent:\n",
    "                    parent[v] = u\n",
    "                    if v == dst:\n",
    "                        # reconstruct\n",
    "                        path = [dst]\n",
    "                        while parent[path[-1]] is not None:\n",
    "                            path.append(parent[path[-1]])\n",
    "                        return path[::-1]\n",
    "                    q.append(v)\n",
    "        return None  # unreachable\n",
    "\n",
    "    def __str__(self):\n",
    "        kind = \"Directed\" if self.directed else \"Undirected\"\n",
    "        lines = [f\"{kind} Graph (|V|={len(self.adj)}, |E|={sum(len(n) for n in self.adj.values()) if self.directed else sum(len(n) for n in self.adj.values())//2})\"]\n",
    "        for u in sorted(self.adj, key=lambda x: (str(type(x)), x)):\n",
    "            nbrs = \", \".join(map(str, sorted(self.adj[u], key=lambda x: (str(type(x)), x))))\n",
    "            lines.append(f\"  {u} -> [{nbrs}]\")\n",
    "        return \"\\n\".join(lines)\n",
    "\n",
    "\n"
   ]
  },
  {
   "cell_type": "code",
   "execution_count": 11,
   "id": "389e8dfd",
   "metadata": {},
   "outputs": [
    {
     "name": "stdout",
     "output_type": "stream",
     "text": [
      "Directed Graph (|V|=4, |E|=3)\n",
      "  1 -> [2, 3]\n",
      "  2 -> [4]\n",
      "  3 -> []\n",
      "  4 -> []\n",
      "BFS from 1: [1, 2, 3, 4]\n",
      "DFS from 1: [1, 2, 4, 3]\n",
      "1→4 path: [1, 2, 4]\n"
     ]
    }
   ],
   "source": [
    "g = Graph(directed=True)\n",
    "g.add_edge(1, 2)\n",
    "g.add_edge(1, 3)\n",
    "g.add_edge(2, 4)\n",
    "\n",
    "print(g)                         # structured adjacency list\n",
    "# Directed Graph (|V|=4, |E|=3)\n",
    "#   1 -> [2, 3]\n",
    "#   2 -> [4]\n",
    "#   3 -> []\n",
    "#   4 -> []\n",
    "\n",
    "print(\"BFS from 1:\", g.bfs(1))   # [1, 2, 3, 4]\n",
    "print(\"DFS from 1:\", g.dfs(1))   # e.g., [1, 3, 2, 4]\n",
    "print(\"1→4 path:\", g.shortest_path(1, 4))  # [1, 2, 4]\n"
   ]
  },
  {
   "cell_type": "markdown",
   "id": "a107299c",
   "metadata": {},
   "source": [
    "## Weighted graph variant,store a dict-of-dicts"
   ]
  },
  {
   "cell_type": "code",
   "execution_count": 20,
   "id": "d1c6e53e",
   "metadata": {},
   "outputs": [],
   "source": [
    "from collections import defaultdict\n",
    "import heapq\n",
    "\n",
    "class WeightedGraph:\n",
    "    def __init__(self, directed: bool = True):\n",
    "        self.directed = directed\n",
    "        self.adj = defaultdict(dict)  # u -> {v: weight}\n",
    "\n",
    "    def add_node(self, u):\n",
    "        _ = self.adj[u]; return u\n",
    "\n",
    "    def add_edge(self, u, v, w=1.0):\n",
    "        self.add_node(u); self.add_node(v)\n",
    "        self.adj[u][v] = w\n",
    "        if not self.directed:\n",
    "            self.adj[v][u] = w\n",
    "\n",
    "    def neighbors(self, u):\n",
    "        return self.adj[u].items()  # iterable of (v, w)\n",
    "\n",
    "    # Dijkstra (non-negative weights)\n",
    "    def dijkstra(self, src):\n",
    "        dist = {u: float(\"inf\") for u in self.adj}\n",
    "        dist[src] = 0.0\n",
    "        pq = [(0.0, src)]\n",
    "        parent = {src: None}\n",
    "        while pq:\n",
    "            d, u = heapq.heappop(pq)\n",
    "            if d != dist[u]: \n",
    "                continue\n",
    "            for v, w in self.adj[u].items():\n",
    "                nd = d + w\n",
    "                if nd < dist.get(v, float(\"inf\")):\n",
    "                    dist[v] = nd\n",
    "                    parent[v] = u\n",
    "                    heapq.heappush(pq, (nd, v))\n",
    "        return dist, parent\n",
    "\n",
    "    def reconstruct_path(self, parent, dst):\n",
    "        if dst not in parent: \n",
    "            return None\n",
    "        path = [dst]\n",
    "        while parent[path[-1]] is not None:\n",
    "            path.append(parent[path[-1]])\n",
    "        return path[::-1]\n",
    "\n",
    "    def __str__(self):\n",
    "        kind = \"Directed\" if self.directed else \"Undirected\"\n",
    "        lines = [f\"{kind} Weighted Graph (|V|={len(self.adj)})\"]\n",
    "        for u in sorted(self.adj, key=lambda x: (str(type(x)), x)):\n",
    "            nbrs = \", \".join(f\"{v}:{w}\" for v, w in sorted(self.adj[u].items(), key=lambda kv: (str(type(kv[0])), kv[0])))\n",
    "            lines.append(f\"  {u} -> [{nbrs}]\")\n",
    "        return \"\\n\".join(lines)\n"
   ]
  },
  {
   "cell_type": "code",
   "execution_count": 21,
   "id": "30df9889",
   "metadata": {},
   "outputs": [
    {
     "name": "stdout",
     "output_type": "stream",
     "text": [
      "Directed Weighted Graph (|V|=3)\n",
      "  A -> [B:1.2, C:0.5]\n",
      "  B -> []\n",
      "  C -> [B:0.6]\n",
      "{'A': 0.0, 'B': 1.1, 'C': 0.5}\n",
      "['A', 'C', 'B']\n"
     ]
    }
   ],
   "source": [
    "wg = WeightedGraph(directed=True)\n",
    "wg.add_edge(\"A\", \"B\", 1.2)\n",
    "wg.add_edge(\"A\", \"C\", 0.5)\n",
    "wg.add_edge(\"C\", \"B\", 0.6)\n",
    "\n",
    "print(wg)\n",
    "# Directed Weighted Graph (|V|=3)\n",
    "#   A -> [B:1.2, C:0.5]\n",
    "#   B -> []\n",
    "#   C -> [B:0.6]\n",
    "\n",
    "dist, parent = wg.dijkstra(\"A\")\n",
    "print(dist)                         # {'A':0.0, 'B':1.1, 'C':0.5}\n",
    "print(wg.reconstruct_path(parent, \"B\"))  # ['A', 'C', 'B']\n"
   ]
  },
  {
   "cell_type": "markdown",
   "id": "06924eec",
   "metadata": {},
   "source": [
    "## networkx"
   ]
  },
  {
   "cell_type": "code",
   "execution_count": 12,
   "id": "d4634bca",
   "metadata": {},
   "outputs": [
    {
     "name": "stdout",
     "output_type": "stream",
     "text": [
      "Nodes: ['A', 'B', 'C', 'D']\n",
      "Edges: [('A', 'C'), ('B', 'C'), ('C', 'D')]\n"
     ]
    }
   ],
   "source": [
    "import networkx as nx\n",
    "\n",
    "# --- Directed Graph ---\n",
    "G = nx.DiGraph()   # or nx.Graph() for undirected\n",
    "\n",
    "# Add nodes\n",
    "G.add_node(\"A\")\n",
    "G.add_nodes_from([\"B\", \"C\", \"D\"])\n",
    "\n",
    "# Add edges\n",
    "G.add_edge(\"A\", \"C\")\n",
    "G.add_edges_from([(\"B\", \"C\"), (\"C\", \"D\")])\n",
    "\n",
    "# Print nodes and edges\n",
    "print(\"Nodes:\", G.nodes())\n",
    "print(\"Edges:\", G.edges())\n"
   ]
  },
  {
   "cell_type": "code",
   "execution_count": 14,
   "id": "0500c1f9",
   "metadata": {},
   "outputs": [
    {
     "name": "stdout",
     "output_type": "stream",
     "text": [
      "BFS from A: ['A', 'C', 'D']\n",
      "DFS from A: ['A', 'C', 'D']\n"
     ]
    }
   ],
   "source": [
    "# trabersals\n",
    "print(\"BFS from A:\", list(nx.bfs_tree(G, source=\"A\")))\n",
    "print(\"DFS from A:\", list(nx.dfs_tree(G, source=\"A\")))\n"
   ]
  },
  {
   "cell_type": "code",
   "execution_count": 15,
   "id": "be52af2e",
   "metadata": {},
   "outputs": [
    {
     "name": "stdout",
     "output_type": "stream",
     "text": [
      "Shortest path A → D: ['A', 'C', 'D']\n",
      "Path length: 2\n"
     ]
    }
   ],
   "source": [
    "# Shortest paths\n",
    "print(\"Shortest path A → D:\", nx.shortest_path(G, source=\"A\", target=\"D\"))\n",
    "print(\"Path length:\", nx.shortest_path_length(G, \"A\", \"D\"))\n"
   ]
  },
  {
   "cell_type": "code",
   "execution_count": 16,
   "id": "86ba9d7f",
   "metadata": {},
   "outputs": [
    {
     "name": "stdout",
     "output_type": "stream",
     "text": [
      "Has cycle: False\n",
      "Topological order: ['A', 'B', 'C', 'D']\n"
     ]
    }
   ],
   "source": [
    "# Cycle detection & Topological sort\n",
    "print(\"Has cycle:\", not nx.is_directed_acyclic_graph(G))\n",
    "if nx.is_directed_acyclic_graph(G):\n",
    "    print(\"Topological order:\", list(nx.topological_sort(G)))\n"
   ]
  },
  {
   "cell_type": "code",
   "execution_count": 17,
   "id": "46865ab3",
   "metadata": {},
   "outputs": [
    {
     "name": "stdout",
     "output_type": "stream",
     "text": [
      "Dijkstra: ({'A': 0, 'C': 0.5, 'B': 1.1}, {'A': ['A'], 'B': ['A', 'C', 'B'], 'C': ['A', 'C']})\n"
     ]
    }
   ],
   "source": [
    "# weighted graphs\n",
    "WG = nx.DiGraph()\n",
    "WG.add_weighted_edges_from([\n",
    "    (\"A\", \"B\", 1.2),\n",
    "    (\"A\", \"C\", 0.5),\n",
    "    (\"C\", \"B\", 0.6)\n",
    "])\n",
    "\n",
    "print(\"Dijkstra:\", nx.single_source_dijkstra(WG, \"A\"))\n"
   ]
  },
  {
   "cell_type": "code",
   "execution_count": 19,
   "id": "d124545a",
   "metadata": {},
   "outputs": [
    {
     "data": {
      "image/png": "[encoded data removed]",
      "text/plain": [
       "<Figure size 640x480 with 1 Axes>"
      ]
     },
     "metadata": {},
     "output_type": "display_data"
    }
   ],
   "source": [
    "# Visualization\n",
    "import matplotlib.pyplot as plt\n",
    "\n",
    "pos = nx.spring_layout(G)  # layout algorithm\n",
    "nx.draw(G, pos, with_labels=True, node_color=\"lightblue\", node_size=1200, arrows=True)\n",
    "plt.show()\n"
   ]
  },
  {
   "cell_type": "markdown",
   "id": "9b2f8d20",
   "metadata": {},
   "source": [
    "# Skills"
   ]
  },
  {
   "cell_type": "markdown",
   "id": "96d03cec",
   "metadata": {},
   "source": [
    "## defaultdic"
   ]
  },
  {
   "cell_type": "markdown",
   "id": "88d084ca",
   "metadata": {},
   "source": [
    "defaultdic vs dic\n",
    "\n",
    "dic: 访问不存在的 key, 抛出 KeyError,没有默认值，需要自己判断,通用存储\n",
    "\n",
    "defaultdic: 访问不存在的 key, 自动创建并赋予默认值, 默认值由工厂函数（int, list, set 等）决定,常用于计数、分组、邻接表等 \n",
    "\n"
   ]
  },
  {
   "cell_type": "code",
   "execution_count": null,
   "id": "a82319cf",
   "metadata": {},
   "outputs": [
    {
     "ename": "KeyError",
     "evalue": "'c'",
     "output_type": "error",
     "traceback": [
      "\u001b[0;31m---------------------------------------------------------------------------\u001b[0m",
      "\u001b[0;31mKeyError\u001b[0m                                  Traceback (most recent call last)",
      "Cell \u001b[0;32mIn[3], line 3\u001b[0m\n\u001b[1;32m      1\u001b[0m a \u001b[38;5;241m=\u001b[39m \u001b[38;5;28mdict\u001b[39m({\u001b[38;5;124m\"\u001b[39m\u001b[38;5;124ma\u001b[39m\u001b[38;5;124m\"\u001b[39m:\u001b[38;5;241m123\u001b[39m, \u001b[38;5;124m\"\u001b[39m\u001b[38;5;124mb\u001b[39m\u001b[38;5;124m\"\u001b[39m:\u001b[38;5;241m456\u001b[39m})\n\u001b[1;32m      2\u001b[0m a[\u001b[38;5;124m\"\u001b[39m\u001b[38;5;124ma\u001b[39m\u001b[38;5;124m\"\u001b[39m]\n\u001b[0;32m----> 3\u001b[0m a[\u001b[38;5;124m\"\u001b[39m\u001b[38;5;124mc\u001b[39m\u001b[38;5;124m\"\u001b[39m]\n",
      "\u001b[0;31mKeyError\u001b[0m: 'c'"
     ]
    }
   ],
   "source": [
    "a = dict({\"a\":123, \"b\":456})\n",
    "a[\"a\"]\n",
    "a[\"c\"] # key errorS"
   ]
  },
  {
   "cell_type": "code",
   "execution_count": 5,
   "id": "3d658040",
   "metadata": {},
   "outputs": [
    {
     "name": "stdout",
     "output_type": "stream",
     "text": [
      "[1]\n",
      "[]\n"
     ]
    }
   ],
   "source": [
    "from collections import defaultdict\n",
    "d = defaultdict(list)   # 默认值是 list()\n",
    "d[\"a\"].append(1)        # 自动初始化为 []\n",
    "print(d[\"a\"])           # [1]\n",
    "print(d[\"b\"])           # []  （自动创建空列表）"
   ]
  },
  {
   "cell_type": "markdown",
   "id": "7ff08a20",
   "metadata": {},
   "source": [
    "## deque"
   ]
  },
  {
   "cell_type": "markdown",
   "id": "bc0f73d8",
   "metadata": {},
   "source": [
    "deque vs list\n",
    "deque: double-ended queue\n",
    "\n",
    "特点：\n",
    "\n",
    "队列 (queue)：先进先出 (FIFO)\n",
    "\n",
    "双端 (double-ended)：两端都能高效插入和删除\n",
    "\n",
    "二、和 list 的区别\n",
    "\n",
    "在 Python 里，list 虽然也能当队列用，但效率不高：\n",
    "\n",
    "list.append(x)：在尾部加元素，效率高 (O(1))\n",
    "\n",
    "list.pop(0)：在头部弹出元素，需要整体移动，效率低 (O(n))\n",
    "\n",
    "而 deque 在两端操作都是 O(1) 时间复杂度：\n",
    "\n",
    "append(x)：右端加\n",
    "\n",
    "appendleft(x)：左端加\n",
    "\n",
    "pop()：右端弹出\n",
    "\n",
    "popleft()：左端弹出\n",
    "\n",
    "list 更适合随机访问\n",
    "\n",
    "deque 更适合做队列或栈，因为两端操作快"
   ]
  },
  {
   "cell_type": "code",
   "execution_count": 7,
   "id": "871acb86",
   "metadata": {},
   "outputs": [
    {
     "name": "stdout",
     "output_type": "stream",
     "text": [
      "deque(['a', 'b'])\n",
      "a\n",
      "b\n"
     ]
    }
   ],
   "source": [
    "from collections import deque\n",
    "\n",
    "# 当队列使用（BFS 就用它\n",
    "q = deque()\n",
    "q.append(\"a\")       # 入队\n",
    "q.append(\"b\")\n",
    "print(q)            # deque(['a', 'b'])\n",
    "\n",
    "print(q.popleft())  # 出队 -> 'a'\n",
    "print(q.popleft())  # 出队 -> 'b'\n"
   ]
  },
  {
   "cell_type": "code",
   "execution_count": 8,
   "id": "70542ae6",
   "metadata": {},
   "outputs": [
    {
     "name": "stdout",
     "output_type": "stream",
     "text": [
      "y\n",
      "x\n"
     ]
    }
   ],
   "source": [
    "from collections import deque\n",
    "# 当栈使用\n",
    "s = deque()\n",
    "s.append(\"x\")\n",
    "s.append(\"y\")\n",
    "print(s.pop())      # y\n",
    "print(s.pop())      # x\n"
   ]
  },
  {
   "cell_type": "code",
   "execution_count": 9,
   "id": "a8b95c3d",
   "metadata": {},
   "outputs": [
    {
     "name": "stdout",
     "output_type": "stream",
     "text": [
      "deque([1, 2, 3], maxlen=3)\n",
      "deque([2, 3, 4], maxlen=3)\n"
     ]
    }
   ],
   "source": [
    "from collections import deque\n",
    "# 限制长度（自动丢弃旧元素）\n",
    "d = deque(maxlen=3)\n",
    "d.extend([1,2,3])\n",
    "print(d)            # deque([1, 2, 3], maxlen=3)\n",
    "d.append(4)\n",
    "print(d)            # deque([2, 3, 4], maxlen=3)  # 1 被丢弃\n"
   ]
  },
  {
   "cell_type": "markdown",
   "id": "c4d5f34c",
   "metadata": {},
   "source": [
    "## heapq"
   ]
  },
  {
   "cell_type": "markdown",
   "id": "cc3f307f",
   "metadata": {},
   "source": [
    "Python 标准库里的 heapq 提供了一个 最小堆 的实现，底层用 list 存储\n",
    "\n",
    "一、堆 (Heap) 是什么\n",
    "\n",
    "堆是一种 特殊的二叉树（完全二叉树，complete binary tree），它满足：\n",
    "\n",
    "最小堆 (min-heap)：父节点 ≤ 子节点\n",
    "\n",
    "最大堆 (max-heap)：父节点 ≥ 子节点\n",
    "\n",
    "所以：\n",
    "\n",
    "最小堆的 根节点 永远是整个树的最小值\n",
    "\n",
    "最大堆的 根节点 永远是整个树的最大值\n",
    "\n",
    "二、堆的主要用途\n",
    "\n",
    "优先队列 (priority queue)\n",
    "\n",
    "支持快速取出“最优”（最小/最大）元素\n",
    "\n",
    "插入和删除都是 O(log n)\n",
    "\n",
    "取最小/最大元素是 O(1)\n",
    "\n",
    "排序\n",
    "\n",
    "Heap Sort 排序就是基于堆实现的\n",
    "\n",
    "图算法\n",
    "\n",
    "Dijkstra、Prim、A* 等算法用堆来选出当前“距离最小”的节点"
   ]
  },
  {
   "cell_type": "code",
   "execution_count": 23,
   "id": "d0913c6c",
   "metadata": {},
   "outputs": [
    {
     "name": "stdout",
     "output_type": "stream",
     "text": [
      "2\n",
      "5\n",
      "9\n"
     ]
    }
   ],
   "source": [
    "import heapq\n",
    "\n",
    "pq = []\n",
    "heapq.heappush(pq, 5)\n",
    "heapq.heappush(pq, 2)\n",
    "heapq.heappush(pq, 9)\n",
    "\n",
    "print(heapq.heappop(pq))  # 2 (最小值)\n",
    "print(heapq.heappop(pq))  # 5\n",
    "print(heapq.heappop(pq))  # 9\n",
    "\n"
   ]
  },
  {
   "cell_type": "markdown",
   "id": "3f7cc450",
   "metadata": {},
   "source": [
    "用heapq 实现最大堆\n",
    "\n",
    "heapq 库只实现了 min-heap，也就是每次 heappop 取出的都是 最小值。\n",
    "\n",
    "但是很多时候我们想要 最大堆（取出最大值）。\n",
    "\n",
    "核心技巧：取负号\n",
    "\n",
    "数学上：\n",
    "\n",
    "最大值 ↔ 最小负数\n",
    "\n",
    "比如：[5, 2, 9]\n",
    "\n",
    "最大值是 9\n",
    "\n",
    "取负后 [ -5, -2, -9 ]\n",
    "\n",
    "最小值是 -9\n",
    "\n",
    "取负回来就是 9\n",
    "\n",
    "这样我们就可以用 最小堆来模拟最大堆。\n"
   ]
  },
  {
   "cell_type": "code",
   "execution_count": 24,
   "id": "76f082b2",
   "metadata": {},
   "outputs": [
    {
     "name": "stdout",
     "output_type": "stream",
     "text": [
      "9\n",
      "5\n",
      "2\n"
     ]
    }
   ],
   "source": [
    "pq = []\n",
    "heapq.heappush(pq, -5)\n",
    "heapq.heappush(pq, -2)\n",
    "heapq.heappush(pq, -9)\n",
    "\n",
    "print(-heapq.heappop(pq))  # 9 (最大值)\n",
    "print(-heapq.heappop(pq))  # 5\n",
    "print(-heapq.heappop(pq))  # 2\n",
    "\n"
   ]
  },
  {
   "cell_type": "markdown",
   "id": "3265da0f",
   "metadata": {},
   "source": [
    "如果插入的数字既有负数也有正树，如何取得最大数\n",
    "\n",
    "为什么有效？\n",
    "\n",
    "因为堆本质上只会找“最小的数”：\n",
    "\n",
    "我们插入时取负 → 原来的最大数变成最小负数\n",
    "\n",
    "堆弹出最小数（负的最大） → 再取负回来 → 就是原来的最大数\n",
    "\n",
    "即使混合了负数和正数，这个逻辑仍然成立。\n",
    "\n",
    "总结\n",
    "\n",
    "在 Python 里要实现 最大堆：\n",
    "\n",
    "插入时：存 -x\n",
    "\n",
    "弹出时：取 -heappop()\n",
    "\n",
    "无论原始数据有没有负数，都能正确取出最大值。"
   ]
  },
  {
   "cell_type": "code",
   "execution_count": null,
   "id": "097cb508",
   "metadata": {},
   "outputs": [
    {
     "name": "stdout",
     "output_type": "stream",
     "text": [
      "[-10, 2, -3, 7]\n",
      "10\n",
      "3\n",
      "-2\n",
      "-7\n"
     ]
    }
   ],
   "source": [
    "\n",
    "import heapq\n",
    "\n",
    "nums = [-7, 3, 10, -2]\n",
    "pq = []\n",
    "for x in nums:\n",
    "    heapq.heappush(pq, -x)   # 存进去的是负数\n",
    "print(pq) # [-10, 2, -3, 7]\n",
    "# 此时堆里的内容（内部表示）：[ 7, -3, -10, 2 ]\n",
    "\n",
    "# 取出时再取负\n",
    "print(-heapq.heappop(pq))   # 10\n",
    "print(-heapq.heappop(pq))   # 3\n",
    "print(-heapq.heappop(pq))   # -2\n",
    "print(-heapq.heappop(pq))   # -7"
   ]
  },
  {
   "cell_type": "markdown",
   "id": "cc5d451c",
   "metadata": {},
   "source": [
    "visualize heapq"
   ]
  },
  {
   "cell_type": "code",
   "execution_count": null,
   "id": "00785440",
   "metadata": {},
   "outputs": [
    {
     "name": "stdout",
     "output_type": "stream",
     "text": [
      "Heap list: [1, 2, 7, 5, 3, 8] \n",
      "\n",
      "        1\n",
      "    2  7\n",
      "  5  3  8\n"
     ]
    }
   ],
   "source": [
    "import heapq\n",
    "import math\n",
    "\n",
    "def visualize_heap(heap):\n",
    "    n = len(heap)\n",
    "    levels = math.floor(math.log2(n)) + 1 if n > 0 else 0\n",
    "    i = 0\n",
    "    for level in range(levels):\n",
    "        count = 2**level\n",
    "        row = heap[i:i+count]\n",
    "        print(\" \" * (2**(levels-level)) + \"  \".join(map(str, row)))\n",
    "        i += count\n",
    "\n",
    "# 示例\n",
    "pq = []\n",
    "for x in [5, 3, 8, 1, 2, 7]:\n",
    "    heapq.heappush(pq, x)\n",
    "\n",
    "print(\"Heap list:\", pq, \"\\n\")\n",
    "visualize_heap(pq)\n",
    "\n",
    "# 确实会“歪”，主要是因为：\n",
    "# 纯文本打印在非等宽字体里会错位；\n",
    "# 多位数/负号的宽度不一致也会挤歪行距。\n"
   ]
  }
 ],
 "metadata": {
  "kernelspec": {
   "display_name": "base",
   "language": "python",
   "name": "python3"
  },
  "language_info": {
   "codemirror_mode": {
    "name": "ipython",
    "version": 3
   },
   "file_extension": ".py",
   "mimetype": "text/x-python",
   "name": "python",
   "nbconvert_exporter": "python",
   "pygments_lexer": "ipython3",
   "version": "3.12.7"
  }
 },
 "nbformat": 4,
 "nbformat_minor": 5
}

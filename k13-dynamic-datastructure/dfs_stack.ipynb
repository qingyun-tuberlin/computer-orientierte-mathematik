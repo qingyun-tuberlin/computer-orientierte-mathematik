{
 "cells": [
  {
   "cell_type": "code",
   "execution_count": 1,
   "id": "3f85adac",
   "metadata": {},
   "outputs": [],
   "source": [
    "class Stack:\n",
    "    def __init__(self):\n",
    "        self.items = []\n",
    "    \n",
    "    def isEmpty(self):\n",
    "        return self.items == []\n",
    "    \n",
    "    def push(self, item):\n",
    "        self.items.append(item)\n",
    "    \n",
    "    def pop(self):\n",
    "        return self.items.pop()\n",
    "    \n",
    "    def peek(self):\n",
    "        return self.items[-1]\n",
    "    \n",
    "    def size(self):\n",
    "        return len(self.items)"
   ]
  },
  {
   "cell_type": "code",
   "execution_count": 2,
   "id": "1ca8bf93",
   "metadata": {},
   "outputs": [],
   "source": [
    "def dfs(adj,r):\n",
    "    R = [r]\n",
    "    F = []\n",
    "    Q = Stack()\n",
    "    Q.push(r)\n",
    "\n",
    "    while not Q.isEmpty():\n",
    "        v = Q.peek()\n",
    "        i = 0\n",
    "        while len(adj[v]) > i and adj[v][i] in R:\n",
    "            i += 1\n",
    "        if len(adj[v]) > i :\n",
    "            w = adj[v][i]\n",
    "            R.append(w)\n",
    "            Q.push(w)\n",
    "            F.append((v,w))\n",
    "        else:\n",
    "            Q.pop()\n",
    "    return (R,F)"
   ]
  },
  {
   "cell_type": "code",
   "execution_count": null,
   "id": "2bfee040",
   "metadata": {},
   "outputs": [],
   "source": [
    "adj = {\n",
    "    'A': ['C','B'],\n",
    "    'B': ['A'],\n",
    "    'C': ['A', 'D'],\n",
    "    'D': ['C','E'],\n",
    "    'E': ['D']\n",
    "}\n",
    "\n",
    "# Graph:\n",
    "#    A\n",
    "#   / \\\n",
    "#  C   B\n",
    "#  |    \n",
    "#  D   \n",
    "#  |\n",
    "#  E\n"
   ]
  },
  {
   "cell_type": "code",
   "execution_count": 10,
   "id": "00b7cad6",
   "metadata": {},
   "outputs": [
    {
     "name": "stdout",
     "output_type": "stream",
     "text": [
      "Visited nodes: ['A', 'C', 'D', 'E', 'B']\n",
      "DFS tree edges: [('A', 'C'), ('C', 'D'), ('D', 'E'), ('A', 'B')]\n"
     ]
    }
   ],
   "source": [
    "R, F = dfs(adj, 'A')\n",
    "print(\"Visited nodes:\", R)\n",
    "print(\"DFS tree edges:\", F)\n"
   ]
  },
  {
   "cell_type": "code",
   "execution_count": null,
   "id": "508d8a08",
   "metadata": {},
   "outputs": [],
   "source": []
  }
 ],
 "metadata": {
  "kernelspec": {
   "display_name": "base",
   "language": "python",
   "name": "python3"
  },
  "language_info": {
   "codemirror_mode": {
    "name": "ipython",
    "version": 3
   },
   "file_extension": ".py",
   "mimetype": "text/x-python",
   "name": "python",
   "nbconvert_exporter": "python",
   "pygments_lexer": "ipython3",
   "version": "3.12.7"
  }
 },
 "nbformat": 4,
 "nbformat_minor": 5
}

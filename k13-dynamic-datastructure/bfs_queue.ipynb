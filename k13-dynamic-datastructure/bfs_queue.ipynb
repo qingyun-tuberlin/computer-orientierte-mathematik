{
 "cells": [
  {
   "cell_type": "code",
   "execution_count": 1,
   "id": "c49e4793",
   "metadata": {},
   "outputs": [],
   "source": [
    "class Queue:\n",
    "    def __init__(self):\n",
    "        self.items = []\n",
    "    \n",
    "    def isEmpty(self):\n",
    "        return self.items == []\n",
    "    \n",
    "    def enqueue(self, item):\n",
    "        self.items.insert(0,item)\n",
    "\n",
    "    def dequeue(self):\n",
    "        self.items.pop()\n",
    "    \n",
    "    def peek(self):\n",
    "        return self.items[-1]\n",
    "\n",
    "    def size(self):\n",
    "        return len(self.items)\n"
   ]
  },
  {
   "cell_type": "code",
   "execution_count": null,
   "id": "def74695",
   "metadata": {},
   "outputs": [],
   "source": [
    "def bfs(adj, r):\n",
    "    R = [r]\n",
    "    F = []\n",
    "    Q = Queue()\n",
    "    Q.enqueue(r)\n",
    "    while not Q.isEmpty():\n",
    "        v = Q.peek()\n",
    "        i = 0\n",
    "        while len(adj[v]) > i and adj[v][i] in R:\n",
    "            i += 1\n",
    "        if len(adj[v]) > i:\n",
    "            w = adj[v][i]\n",
    "            R.append(w)\n",
    "            Q.enqueue(w)\n",
    "            F.append((v, w))\n",
    "        else:\n",
    "            Q.dequeue()\n",
    "    return (R, F)"
   ]
  },
  {
   "cell_type": "code",
   "execution_count": 5,
   "id": "5f53ddc9",
   "metadata": {},
   "outputs": [
    {
     "name": "stdout",
     "output_type": "stream",
     "text": [
      "Visited nodes: ['A', 'C', 'B', 'D', 'E']\n",
      "DFS tree edges: [('A', 'C'), ('A', 'B'), ('C', 'D'), ('D', 'E')]\n"
     ]
    }
   ],
   "source": [
    "adj = {\n",
    "    'A': ['C','B'],\n",
    "    'B': ['A'],\n",
    "    'C': ['A', 'D'],\n",
    "    'D': ['C','E'],\n",
    "    'E': ['D']\n",
    "}\n",
    "\n",
    "# Graph:\n",
    "#    A\n",
    "#   / \\\n",
    "#  C   B\n",
    "#  |    \n",
    "#  D   \n",
    "#  |\n",
    "#  E\n",
    "\n",
    "R, F = bfs(adj, 'A')\n",
    "print(\"Visited nodes:\", R)\n",
    "print(\"DFS tree edges:\", F)\n"
   ]
  },
  {
   "cell_type": "code",
   "execution_count": null,
   "id": "8bc68427",
   "metadata": {},
   "outputs": [],
   "source": [
    "adj = {\n",
    "    'A': ['B', 'C', 'D'],\n",
    "    'B': ['A', 'E'],\n",
    "    'C': ['A', 'F'],\n",
    "    'D': ['A', 'G'],\n",
    "    'E': ['B'],\n",
    "    'F': ['C', 'H'],\n",
    "    'G': ['D', 'I', 'J'],\n",
    "    'H': ['F'],\n",
    "    'I': ['G'],\n",
    "    'J': ['G']\n",
    "}\n",
    "\n",
    "# Graph:\n",
    "#      A\n",
    "#    / | \\\n",
    "#   B  C  D\n",
    "#   |  |   \\\n",
    "#   E  F    G\n",
    "#      |   / \\\n",
    "#      H  I   J\n",
    "\n",
    "R, F = bfs(adj, 'A')\n",
    "print(\"Visited nodes:\", R)\n",
    "print(\"DFS tree edges:\", F)"
   ]
  }
 ],
 "metadata": {
  "kernelspec": {
   "display_name": "base",
   "language": "python",
   "name": "python3"
  },
  "language_info": {
   "codemirror_mode": {
    "name": "ipython",
    "version": 3
   },
   "file_extension": ".py",
   "mimetype": "text/x-python",
   "name": "python",
   "nbconvert_exporter": "python",
   "pygments_lexer": "ipython3",
   "version": "3.12.7"
  }
 },
 "nbformat": 4,
 "nbformat_minor": 5
}

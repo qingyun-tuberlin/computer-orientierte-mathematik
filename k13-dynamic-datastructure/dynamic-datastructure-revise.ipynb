{
 "cells": [
  {
   "cell_type": "markdown",
   "id": "9cb0d287",
   "metadata": {},
   "source": [
    "## Stack"
   ]
  },
  {
   "cell_type": "code",
   "execution_count": null,
   "id": "06d7e1ee",
   "metadata": {},
   "outputs": [
    {
     "name": "stdout",
     "output_type": "stream",
     "text": [
      "True\n",
      "False\n",
      "None\n",
      "False\n",
      "[2, 9]\n"
     ]
    }
   ],
   "source": [
    "class Stack:\n",
    "    def __init__(self):\n",
    "        self.stack = []\n",
    "    \n",
    "    def insert(self,value):\n",
    "        self.stack.append(value)\n",
    "\n",
    "    def peek(self):\n",
    "        return self.stack[-1]\n",
    "\n",
    "    def pop(self):\n",
    "        if not self.is_empty():\n",
    "            self.stack.pop()\n",
    "    def is_empty(self):\n",
    "        return self.stack == []\n",
    "\n",
    "s = Stack()\n",
    "print(s.is_empty())\n",
    "s.insert(2)\n",
    "s.insert(4)\n",
    "print(s.is_empty())\n",
    "s.peek()\n",
    "print(s.pop())\n",
    "print(s.is_empty())\n",
    "s.insert(9)\n",
    "print(s.stack)\n",
    "    "
   ]
  },
  {
   "cell_type": "markdown",
   "id": "15b4ea6d",
   "metadata": {},
   "source": [
    "## Queue"
   ]
  },
  {
   "cell_type": "code",
   "execution_count": 27,
   "id": "5e50e8fe",
   "metadata": {},
   "outputs": [],
   "source": [
    "class Queue:\n",
    "    def __init__(self):\n",
    "        self.queue = []\n",
    "    \n",
    "    def enqueue(self, value):\n",
    "        self.queue.insert(0,value)\n",
    "\n",
    "    def dequeue(self):\n",
    "        if not self.is_empty():\n",
    "            v = self.queue[0]\n",
    "            self.queue = self.queue[1:]\n",
    "            return v\n",
    "    \n",
    "    def is_empty(self):\n",
    "        return self.queue == []\n",
    "\n",
    "    def size(self):\n",
    "        return len(self.queue)"
   ]
  },
  {
   "cell_type": "markdown",
   "id": "39ce03b9",
   "metadata": {},
   "source": [
    "## BFS with queue"
   ]
  },
  {
   "cell_type": "code",
   "execution_count": null,
   "id": "870b11fc",
   "metadata": {},
   "outputs": [],
   "source": [
    "class BFS:\n",
    "    def __init__(self):\n",
    "        pass"
   ]
  },
  {
   "cell_type": "markdown",
   "id": "d052f4c8",
   "metadata": {},
   "source": [
    "## Skills"
   ]
  },
  {
   "cell_type": "code",
   "execution_count": 19,
   "id": "4e67a6b1",
   "metadata": {},
   "outputs": [
    {
     "name": "stdout",
     "output_type": "stream",
     "text": [
      "[2, 3, 4]\n",
      "[2, 3]\n"
     ]
    }
   ],
   "source": [
    "a = [1,2,3,4]\n",
    "print(a[1:])\n",
    "print(a[1:-1])"
   ]
  },
  {
   "cell_type": "code",
   "execution_count": 26,
   "id": "2ae60b14",
   "metadata": {},
   "outputs": [
    {
     "name": "stdout",
     "output_type": "stream",
     "text": [
      "[0, 1, 3, 4]\n",
      "[0, 11, 1, 2, 3, 4]\n"
     ]
    }
   ],
   "source": [
    "a = [0,1,2,3,4]\n",
    "a.pop(2)\n",
    "print(a)\n",
    "\n",
    "a = [0,1,2,3,4]\n",
    "a.insert(1,11)\n",
    "print(a)"
   ]
  }
 ],
 "metadata": {
  "kernelspec": {
   "display_name": "base",
   "language": "python",
   "name": "python3"
  },
  "language_info": {
   "codemirror_mode": {
    "name": "ipython",
    "version": 3
   },
   "file_extension": ".py",
   "mimetype": "text/x-python",
   "name": "python",
   "nbconvert_exporter": "python",
   "pygments_lexer": "ipython3",
   "version": "3.12.7"
  }
 },
 "nbformat": 4,
 "nbformat_minor": 5
}

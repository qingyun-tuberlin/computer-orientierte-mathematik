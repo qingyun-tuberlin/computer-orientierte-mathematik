{
 "cells": [
  {
   "cell_type": "code",
   "execution_count": 1,
   "id": "8301f4e1",
   "metadata": {},
   "outputs": [],
   "source": [
    "class UnionFindNoCompression:\n",
    "    def __init__(self, n):\n",
    "        self.parent = list(range(n))\n",
    "\n",
    "    def find(self, x):\n",
    "        while self.parent[x] != x:   # 一直往上找根\n",
    "            x = self.parent[x]\n",
    "        return x\n",
    "\n",
    "    def union(self, x, y):\n",
    "        root_x = self.find(x)\n",
    "        root_y = self.find(y)\n",
    "        if root_x != root_y:\n",
    "            self.parent[root_x] = root_y\n"
   ]
  },
  {
   "cell_type": "code",
   "execution_count": 2,
   "id": "66be536e",
   "metadata": {},
   "outputs": [],
   "source": [
    "class UnionFindWithCompression:\n",
    "    def __init__(self, n):\n",
    "        self.parent = list(range(n))\n",
    "\n",
    "    def find(self, x):\n",
    "        if self.parent[x] != x:   # 如果不是根\n",
    "            self.parent[x] = self.find(self.parent[x])  # 路径压缩\n",
    "        return self.parent[x]\n",
    "\n",
    "    def union(self, x, y):\n",
    "        root_x = self.find(x)\n",
    "        root_y = self.find(y)\n",
    "        if root_x != root_y:\n",
    "            self.parent[root_x] = root_y\n"
   ]
  },
  {
   "cell_type": "code",
   "execution_count": null,
   "id": "ffec069f",
   "metadata": {},
   "outputs": [
    {
     "name": "stdout",
     "output_type": "stream",
     "text": [
      "[0, 1, 2, 3, 4]\n",
      "[1, 1, 2, 3, 4]\n",
      "[1, 2, 2, 3, 4]\n",
      "2\n",
      "2\n",
      "3\n"
     ]
    }
   ],
   "source": [
    "# create union-find with 5 elements (0..4)\n",
    "uf_no = UnionFindNoCompression(5)\n",
    "\n",
    "# Initially: each element is its own parent\n",
    "print(uf_no.parent)   # [0, 1, 2, 3, 4]\n",
    "\n",
    "# Merge sets: union(0,1), union(1,2)\n",
    "uf_no.union(0, 1)\n",
    "print(uf_no.parent)\n",
    "uf_no.union(1, 2)\n",
    "print(uf_no.parent)   # e.g. [1, 2, 2, 3, 4]\n",
    "\n",
    "# Check connectivity\n",
    "print(uf_no.find(0))  # → 2 (root of {0,1,2})\n",
    "print(uf_no.find(2))  # → 2\n",
    "print(uf_no.find(3))  # → 3 (separate set)\n"
   ]
  },
  {
   "cell_type": "code",
   "execution_count": 5,
   "id": "57331cfe",
   "metadata": {},
   "outputs": [
    {
     "name": "stdout",
     "output_type": "stream",
     "text": [
      "[0, 1, 2, 3, 4]\n",
      "[1, 2, 2, 3, 4]\n",
      "2\n",
      "[2, 2, 2, 3, 4]\n",
      "2\n"
     ]
    }
   ],
   "source": [
    "uf_yes = UnionFindWithCompression(5)\n",
    "\n",
    "# Initially\n",
    "print(uf_yes.parent)   # [0, 1, 2, 3, 4]\n",
    "\n",
    "# Merge sets: union(0,1), union(1,2)\n",
    "uf_yes.union(0, 1)\n",
    "uf_yes.union(1, 2)\n",
    "\n",
    "print(uf_yes.parent)   # e.g. [1, 2, 2, 3, 4]\n",
    "\n",
    "# First find: compresses path 0→1→2 into 0→2\n",
    "print(uf_yes.find(0))  # → 2\n",
    "print(uf_yes.parent)   # [2, 2, 2, 3, 4]\n",
    "\n",
    "# Now 0,1 point directly to root 2\n",
    "print(uf_yes.find(0))  # → 2 (only 1 step!)\n"
   ]
  }
 ],
 "metadata": {
  "kernelspec": {
   "display_name": "base",
   "language": "python",
   "name": "python3"
  },
  "language_info": {
   "codemirror_mode": {
    "name": "ipython",
    "version": 3
   },
   "file_extension": ".py",
   "mimetype": "text/x-python",
   "name": "python",
   "nbconvert_exporter": "python",
   "pygments_lexer": "ipython3",
   "version": "3.12.7"
  }
 },
 "nbformat": 4,
 "nbformat_minor": 5
}

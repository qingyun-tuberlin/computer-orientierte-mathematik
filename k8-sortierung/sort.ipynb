{
 "cells": [
  {
   "cell_type": "markdown",
   "id": "8d66974e",
   "metadata": {},
   "source": [
    "# pratice so much until you can code in sleep"
   ]
  },
  {
   "cell_type": "markdown",
   "id": "72755952",
   "metadata": {},
   "source": [
    "## selection sort"
   ]
  },
  {
   "cell_type": "code",
   "execution_count": 1,
   "id": "e5b4422e",
   "metadata": {},
   "outputs": [
    {
     "name": "stdout",
     "output_type": "stream",
     "text": [
      "[1, 2, 3, 4]\n"
     ]
    }
   ],
   "source": [
    "input = [4,3,2,1]\n",
    "n = len(input)\n",
    "for i in range(0,n-1):\n",
    "    for j in range(i+1,n):\n",
    "        if input[j] < input[i]:\n",
    "            tmp = input[j]\n",
    "            input[j]=input[i]\n",
    "            input[i] = tmp\n",
    "print(input)"
   ]
  },
  {
   "cell_type": "code",
   "execution_count": null,
   "id": "5a3c6002",
   "metadata": {},
   "outputs": [
    {
     "name": "stdout",
     "output_type": "stream",
     "text": [
      "[0, 1, 2, 3, 4]\n"
     ]
    }
   ],
   "source": [
    "# 08 september\n",
    "# excercise correct\n",
    "input = [4,3,2,1,0]\n",
    "n = len(input)\n",
    "\n",
    "for i in range(0,n-1):\n",
    "    for j in range(i+1,n):\n",
    "        if input[i] > input[j]:\n",
    "            input[i],input[j] = input[j],input[i]\n",
    "print(input)"
   ]
  },
  {
   "cell_type": "markdown",
   "id": "1fc4d200",
   "metadata": {},
   "source": [
    "## insertion sort"
   ]
  },
  {
   "cell_type": "code",
   "execution_count": 7,
   "id": "938ce0b0",
   "metadata": {},
   "outputs": [
    {
     "name": "stdout",
     "output_type": "stream",
     "text": [
      "[0, 1, 2, 3, 4]\n"
     ]
    }
   ],
   "source": [
    "input = [4,3,2,1,0]\n",
    "n = len(input)\n",
    "\n",
    "for i in range(1,n):\n",
    "    cur = input[i]\n",
    "    j = i\n",
    "    while (j > 0 and cur < input[j-1]):\n",
    "        input[j] = input[j-1]\n",
    "        j -=1\n",
    "    input[j]=cur\n",
    "print(input)"
   ]
  },
  {
   "cell_type": "code",
   "execution_count": null,
   "id": "c9c76d28",
   "metadata": {},
   "outputs": [
    {
     "name": "stdout",
     "output_type": "stream",
     "text": [
      "[0, 1, 2, 3, 4]\n"
     ]
    }
   ],
   "source": [
    "# 08 september\n",
    "# still make mistakes\n",
    "input = [4,3,2,1,0]\n",
    "\n",
    "n = len(input)\n",
    "\n",
    "for i in range(1,n):\n",
    "    sk = input[i]\n",
    "    j = i\n",
    "    while j > 0 and sk < input[j-1]:\n",
    "        input[j] = input[j-1]\n",
    "        j -= 1\n",
    "    input[j] = sk\n",
    "\n",
    "print(input)"
   ]
  },
  {
   "cell_type": "markdown",
   "id": "cdc02e85",
   "metadata": {},
   "source": [
    "## merge sort"
   ]
  },
  {
   "cell_type": "code",
   "execution_count": null,
   "id": "0142148c",
   "metadata": {},
   "outputs": [
    {
     "name": "stdout",
     "output_type": "stream",
     "text": [
      "[0, 1, 2, 3, 4]\n"
     ]
    }
   ],
   "source": [
    "# Zu einer gegebenen n-elementigen Menge \n",
    "# mit einer totalen Ordnung findet Merge-Sort \n",
    "# eine Sortierung in Laufzeit O(nlog n).\n",
    "# Tiefe des Rekursionsbaums ist in O(log n).\n",
    "\n",
    "input = [4,3,2,1,0]\n",
    "\n",
    "# Die Laufzeit dieser Implementierung ist quadratisch.\n",
    "# die Laufzeit der Zeilen\n",
    "# left = left[1:]\n",
    "# right = right[1:]\n",
    "# proportional zur Länge der Listen ist\n",
    "\n",
    "def mergeSort(l:list):\n",
    "    if len(l) <= 1:\n",
    "        return l\n",
    "    \n",
    "    A = l[:len(l)//2]\n",
    "    B = l[len(l)//2:]\n",
    "\n",
    "    πA = mergeSort(A)\n",
    "    πB = mergeSort(B)\n",
    "    \n",
    "    return merge(πA,πB)\n",
    "    \n",
    "def merge(left:list, right:list):\n",
    "    merged = []\n",
    "    while left and right:\n",
    "        if left[0] < right[0]:\n",
    "            merged.append(left[0])\n",
    "            left = left[1:]\n",
    "        else:\n",
    "            merged.append(right[0])\n",
    "            right = right[1:]\n",
    "    merged.extend(left+right)\n",
    "    return merged\n",
    "\n",
    "\n",
    "r = mergeSort(input)\n",
    "print(r)"
   ]
  },
  {
   "cell_type": "markdown",
   "id": "ac8e5b66",
   "metadata": {},
   "source": [
    "## update skills"
   ]
  },
  {
   "cell_type": "code",
   "execution_count": 5,
   "id": "03b727c7",
   "metadata": {},
   "outputs": [
    {
     "name": "stdout",
     "output_type": "stream",
     "text": [
      "15 , -99\n",
      "-99 , 15\n"
     ]
    }
   ],
   "source": [
    "# tmp = input[j]\n",
    "# input[j]=input[i]\n",
    "# input[i] = tmp\n",
    "# this step can be optimized:\n",
    "a = 15\n",
    "b = -99\n",
    "print(a,\",\",b)\n",
    "a,b = b,a\n",
    "print(a,\",\",b)"
   ]
  },
  {
   "cell_type": "code",
   "execution_count": 9,
   "id": "d6af9652",
   "metadata": {},
   "outputs": [
    {
     "name": "stdout",
     "output_type": "stream",
     "text": [
      "1.5\n",
      "1\n"
     ]
    }
   ],
   "source": [
    "print(3 / 2)\n",
    "print(3 // 2)"
   ]
  },
  {
   "cell_type": "code",
   "execution_count": 10,
   "id": "7fae128f",
   "metadata": {},
   "outputs": [
    {
     "name": "stdout",
     "output_type": "stream",
     "text": [
      "[1, 2, 3, 4, 5, 6]\n"
     ]
    }
   ],
   "source": [
    "a = [1,2,3]\n",
    "b = [4,5,6]\n",
    "print( a + b )"
   ]
  },
  {
   "cell_type": "code",
   "execution_count": 12,
   "id": "eb7c3572",
   "metadata": {},
   "outputs": [
    {
     "name": "stdout",
     "output_type": "stream",
     "text": [
      "['1', '2', '3', '4']\n",
      "['14']\n"
     ]
    }
   ],
   "source": [
    "print(\"1 2 3 4\".split())\n",
    "print(\"14\".split())"
   ]
  }
 ],
 "metadata": {
  "kernelspec": {
   "display_name": "base",
   "language": "python",
   "name": "python3"
  },
  "language_info": {
   "codemirror_mode": {
    "name": "ipython",
    "version": 3
   },
   "file_extension": ".py",
   "mimetype": "text/x-python",
   "name": "python",
   "nbconvert_exporter": "python",
   "pygments_lexer": "ipython3",
   "version": "3.12.7"
  }
 },
 "nbformat": 4,
 "nbformat_minor": 5
}

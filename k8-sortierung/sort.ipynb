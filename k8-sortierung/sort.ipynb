{
 "cells": [
  {
   "cell_type": "markdown",
   "id": "8d66974e",
   "metadata": {},
   "source": [
    "# pratice so much until you can code in sleep"
   ]
  },
  {
   "cell_type": "markdown",
   "id": "72755952",
   "metadata": {},
   "source": [
    "## selection sort"
   ]
  },
  {
   "cell_type": "code",
   "execution_count": 1,
   "id": "e5b4422e",
   "metadata": {},
   "outputs": [
    {
     "name": "stdout",
     "output_type": "stream",
     "text": [
      "[1, 2, 3, 4]\n"
     ]
    }
   ],
   "source": [
    "input = [4,3,2,1]\n",
    "n = len(input)\n",
    "for i in range(0,n-1):\n",
    "    for j in range(i+1,n):\n",
    "        if input[j] < input[i]:\n",
    "            tmp = input[j]\n",
    "            input[j]=input[i]\n",
    "            input[i] = tmp\n",
    "print(input)"
   ]
  },
  {
   "cell_type": "code",
   "execution_count": null,
   "id": "5a3c6002",
   "metadata": {},
   "outputs": [
    {
     "name": "stdout",
     "output_type": "stream",
     "text": [
      "[0, 1, 2, 3, 4]\n"
     ]
    }
   ],
   "source": [
    "# 08 september\n",
    "# excercise correct\n",
    "input = [4,3,2,1,0]\n",
    "n = len(input)\n",
    "\n",
    "for i in range(0,n-1):\n",
    "    for j in range(i+1,n):\n",
    "        if input[i] > input[j]:\n",
    "            input[i],input[j] = input[j],input[i]\n",
    "print(input)"
   ]
  },
  {
   "cell_type": "markdown",
   "id": "1fc4d200",
   "metadata": {},
   "source": [
    "## insertion sort"
   ]
  },
  {
   "cell_type": "code",
   "execution_count": 7,
   "id": "938ce0b0",
   "metadata": {},
   "outputs": [
    {
     "name": "stdout",
     "output_type": "stream",
     "text": [
      "[0, 1, 2, 3, 4]\n"
     ]
    }
   ],
   "source": [
    "input = [4,3,2,1,0]\n",
    "n = len(input)\n",
    "\n",
    "for i in range(1,n):\n",
    "    cur = input[i]\n",
    "    j = i\n",
    "    while (j > 0 and cur < input[j-1]):\n",
    "        input[j] = input[j-1]\n",
    "        j -=1\n",
    "    input[j]=cur\n",
    "print(input)"
   ]
  },
  {
   "cell_type": "code",
   "execution_count": null,
   "id": "c9c76d28",
   "metadata": {},
   "outputs": [
    {
     "name": "stdout",
     "output_type": "stream",
     "text": [
      "[0, 1, 2, 3, 4]\n"
     ]
    }
   ],
   "source": [
    "# 08 september\n",
    "# still make mistakes\n",
    "input = [4,3,2,1,0]\n",
    "\n",
    "n = len(input)\n",
    "\n",
    "for i in range(1,n):\n",
    "    sk = input[i]\n",
    "    j = i\n",
    "    while j > 0 and sk < input[j-1]:\n",
    "        input[j] = input[j-1]\n",
    "        j -= 1\n",
    "    input[j] = sk\n",
    "\n",
    "print(input)"
   ]
  },
  {
   "cell_type": "markdown",
   "id": "cdc02e85",
   "metadata": {},
   "source": [
    "## merge sort"
   ]
  },
  {
   "cell_type": "code",
   "execution_count": null,
   "id": "0142148c",
   "metadata": {},
   "outputs": [
    {
     "name": "stdout",
     "output_type": "stream",
     "text": [
      "[0, 1, 2, 3, 4]\n"
     ]
    }
   ],
   "source": [
    "# Zu einer gegebenen n-elementigen Menge \n",
    "# mit einer totalen Ordnung findet Merge-Sort \n",
    "# eine Sortierung in Laufzeit O(nlog n).\n",
    "# Tiefe des Rekursionsbaums ist in O(log n).\n",
    "\n",
    "input = [4,3,2,1,0]\n",
    "\n",
    "# Die Laufzeit dieser Implementierung ist quadratisch.\n",
    "# die Laufzeit der Zeilen\n",
    "# left = left[1:]\n",
    "# right = right[1:]\n",
    "# proportional zur Länge der Listen ist\n",
    "\n",
    "def mergeSort(l:list):\n",
    "    if len(l) <= 1:\n",
    "        return l\n",
    "    \n",
    "    A = l[:len(l)//2]\n",
    "    B = l[len(l)//2:]\n",
    "\n",
    "    πA = mergeSort(A)\n",
    "    πB = mergeSort(B)\n",
    "    \n",
    "    return merge(πA,πB)\n",
    "    \n",
    "def merge(left:list, right:list):\n",
    "    merged = []\n",
    "    while left and right:\n",
    "        if left[0] < right[0]:\n",
    "            merged.append(left[0])\n",
    "            left = left[1:]\n",
    "        else:\n",
    "            merged.append(right[0])\n",
    "            right = right[1:]\n",
    "    merged.extend(left+right)\n",
    "    return merged\n",
    "\n",
    "\n",
    "r = mergeSort(input)\n",
    "print(r)"
   ]
  },
  {
   "cell_type": "markdown",
   "id": "348c5c21",
   "metadata": {},
   "source": [
    "## quick sort"
   ]
  },
  {
   "cell_type": "code",
   "execution_count": 14,
   "id": "cc0cc128",
   "metadata": {},
   "outputs": [
    {
     "name": "stdout",
     "output_type": "stream",
     "text": [
      "[1, 2, 3, 4, 5, 6]\n"
     ]
    }
   ],
   "source": [
    "import random\n",
    "def quickSort(l):\n",
    "    if len(l) <= 1:\n",
    "        return l\n",
    "    \n",
    "    r = random.randint(0,len(l)-1)\n",
    "    pivot = l[r]\n",
    "\n",
    "    S1 = [x for x in l if x < pivot]\n",
    "    S2 = [x for x in l if x > pivot]\n",
    "    return quickSort(S1) + [pivot] + quickSort(S2)\n",
    "\n",
    "print(quickSort([6,5,4,3,2,1]))\n"
   ]
  },
  {
   "cell_type": "markdown",
   "id": "dc10abbb",
   "metadata": {},
   "source": [
    "## counting sort"
   ]
  },
  {
   "cell_type": "markdown",
   "id": "aad0c539",
   "metadata": {},
   "source": [
    "C = list([0]*(k+1)). 为什么要 k+1 个格子？<br>\n",
    "因为 Python 的数组/列表是从 0 开始索引的：<br>\n",
    "如果元素的最大值是 k，那么可能的元素是：<br>\n",
    "0,1,2,…,k<br>\n",
    "一共 k+1 个不同的数。<br>\n",
    "所以 C 必须有 k+1 个位置，分别存储：<br>\n",
    "C[0]: 值为 0 的元素出现次数<br>\n",
    "C[1]: 值为 1 的元素出现次数<br>\n",
    "…<br>\n",
    "C[k]: 值为 k 的元素出现次数<br>\n",
    "如果只写 [0]*k，那 C 的合法下标是 0 … k-1，就存不下 A 里值等于 k 的情况，<br>\n",
    "会报 IndexError。<br>\n",
    "\n",
    "B[C[A[j]] - 1] = A[j] 为什么要 -1 <br>\n",
    "为数组索引是 0-based，而前缀和数组 C 里存的是 1-based 的排名 <br>\n",
    "如果 C[3] = 5，说明值 ≤ 3 的一共有 5 个 <br>\n",
    "那么最后一个 3 在结果数组里应该放在第 5 个位置 <br>\n",
    "件算法写的是： <br>\n",
    "B[C[A[j]]] ← A[j] <br>\n",
    "C[A[j]] ← C[A[j]] - 1 <br>\n",
    "这里默认的是 数学书上的数组是从 1 开始编号的。 <br>"
   ]
  },
  {
   "cell_type": "code",
   "execution_count": null,
   "id": "99753bcc",
   "metadata": {},
   "outputs": [
    {
     "name": "stdout",
     "output_type": "stream",
     "text": [
      "C:  [0, 3, 1, 1, 1, 1, 1]\n",
      "C:  [0, 3, 4, 5, 6, 7, 8]\n",
      "A:  [5, 4, 3, 2, 1, 1, 1, 6]\n",
      "[1, 1, 1, 2, 3, 4, 5, 6]\n"
     ]
    }
   ],
   "source": [
    "# 我的代码，有错,改正了\n",
    "A = [5,4,3,2,1,1,1,6]\n",
    "n = len(A)\n",
    "k = max(A)\n",
    "\n",
    "C = list([0]*(k+1)) \n",
    "    \n",
    "for j in range(0,n):\n",
    "    C[A[j]] = C[A[j]] + 1\n",
    "print(\"C: \", C)\n",
    "\n",
    "# for x in A:\n",
    "#     C[x] += 1\n",
    "# A[j] == x\n",
    "\n",
    "for i in range(0,k):\n",
    "    C[i+1] = C[i+1] + C[i]\n",
    "print(\"C: \", C)\n",
    "\n",
    "B = list([False]*n)\n",
    "print(\"A: \", A)\n",
    "j = n-1\n",
    "while j >= 0:\n",
    "    B[C[A[j]] - 1] = A[j]\n",
    "    C[A[j]] = C[A[j]] - 1\n",
    "    j -= 1\n",
    "print(B)"
   ]
  },
  {
   "cell_type": "code",
   "execution_count": 25,
   "id": "3dcdbd09",
   "metadata": {},
   "outputs": [
    {
     "name": "stdout",
     "output_type": "stream",
     "text": [
      "[1, 1, 1, 2, 3, 4, 5, 6]\n"
     ]
    }
   ],
   "source": [
    "# GPT 给我修改的代码\n",
    "A = [5,4,3,2,1,1,1,6]\n",
    "n = len(A)\n",
    "k = max(A)\n",
    "\n",
    "C = [0] * (k + 1)\n",
    "\n",
    "# 计数\n",
    "for j in range(0, n):\n",
    "    C[A[j]] += 1\n",
    "\n",
    "# 前缀和（一定要把 C[k] 也更新到）\n",
    "for i in range(0, k):        # 关键修正：到 k-1，更新到 C[k]\n",
    "    C[i+1] += C[i]\n",
    "\n",
    "B = [0] * n\n",
    "\n",
    "# 稳定回填\n",
    "j = n - 1\n",
    "while j >= 0:                # 关键修正：>= 0\n",
    "    B[C[A[j]] - 1] = A[j]    # 关键修正：索引要 -1\n",
    "    C[A[j]] -= 1\n",
    "    j -= 1\n",
    "\n",
    "print(B)  # -> [1, 1, 1, 2, 3, 4, 5]\n"
   ]
  },
  {
   "cell_type": "code",
   "execution_count": 22,
   "id": "9b705b86",
   "metadata": {},
   "outputs": [
    {
     "name": "stdout",
     "output_type": "stream",
     "text": [
      "[5, 4, 3, 2, 1, 1, 1]\n"
     ]
    }
   ],
   "source": [
    "# GPT 的代码 version 1\n",
    "def counting_sort(A):\n",
    "    if not A:\n",
    "        return []\n",
    "    n = len(A)              # number of items\n",
    "    k = max(A)              # value range upper bound (assumes 1..k)\n",
    "\n",
    "    C = [0] * (k + 1)       # counts\n",
    "    for x in A:\n",
    "        C[x] += 1\n",
    "\n",
    "    for i in range(1, k + 1):\n",
    "        C[i] += C[i - 1]    # prefix sums\n",
    "\n",
    "    B = [0] * n\n",
    "    for j in range(n - 1, -1, -1):\n",
    "        x = A[j]\n",
    "        B[C[x] - 1] = x\n",
    "        C[x] -= 1\n",
    "    return B\n",
    "\n",
    "\n",
    "A = [5,4,3,2,1,1,1]\n",
    "result = counting_sort(A)\n",
    "print(A)"
   ]
  },
  {
   "cell_type": "markdown",
   "id": "ac8e5b66",
   "metadata": {},
   "source": [
    "## update skills"
   ]
  },
  {
   "cell_type": "code",
   "execution_count": 21,
   "id": "ca5babb3",
   "metadata": {},
   "outputs": [
    {
     "name": "stdout",
     "output_type": "stream",
     "text": [
      "3\n",
      "2\n",
      "1\n",
      "0\n",
      "##\n",
      "1\n",
      "2\n"
     ]
    }
   ],
   "source": [
    "for i in range(3,-1,-1):\n",
    "    print(i)\n",
    "print(\"##\")\n",
    "for i in range(1,3):\n",
    "    print(i)"
   ]
  },
  {
   "cell_type": "code",
   "execution_count": null,
   "id": "9fa27be6",
   "metadata": {},
   "outputs": [
    {
     "name": "stdout",
     "output_type": "stream",
     "text": [
      "[1, 2]\n",
      "[4, 5]\n",
      "[1, 2, 3, 4, 5]\n"
     ]
    }
   ],
   "source": [
    "l = [1,2,3,4,5]\n",
    "pivot = 3\n",
    "S1 = [x for x in l if x < pivot]\n",
    "S2 = [x for x in l if x > pivot]\n",
    "print(S1)\n",
    "print(S2)\n",
    "# typical error is here to use S1 + pivot + S2 directly\n",
    "S = S1 + [pivot] + S2\n",
    "print(S)"
   ]
  },
  {
   "cell_type": "code",
   "execution_count": 5,
   "id": "1d4227bf",
   "metadata": {},
   "outputs": [
    {
     "data": {
      "text/plain": [
       "1"
      ]
     },
     "execution_count": 5,
     "metadata": {},
     "output_type": "execute_result"
    }
   ],
   "source": [
    "import random\n",
    "random.randint(0,3)"
   ]
  },
  {
   "cell_type": "code",
   "execution_count": 5,
   "id": "03b727c7",
   "metadata": {},
   "outputs": [
    {
     "name": "stdout",
     "output_type": "stream",
     "text": [
      "15 , -99\n",
      "-99 , 15\n"
     ]
    }
   ],
   "source": [
    "# tmp = input[j]\n",
    "# input[j]=input[i]\n",
    "# input[i] = tmp\n",
    "# this step can be optimized:\n",
    "a = 15\n",
    "b = -99\n",
    "print(a,\",\",b)\n",
    "a,b = b,a\n",
    "print(a,\",\",b)"
   ]
  },
  {
   "cell_type": "code",
   "execution_count": 9,
   "id": "d6af9652",
   "metadata": {},
   "outputs": [
    {
     "name": "stdout",
     "output_type": "stream",
     "text": [
      "1.5\n",
      "1\n"
     ]
    }
   ],
   "source": [
    "print(3 / 2)\n",
    "print(3 // 2)"
   ]
  },
  {
   "cell_type": "code",
   "execution_count": 10,
   "id": "7fae128f",
   "metadata": {},
   "outputs": [
    {
     "name": "stdout",
     "output_type": "stream",
     "text": [
      "[1, 2, 3, 4, 5, 6]\n"
     ]
    }
   ],
   "source": [
    "a = [1,2,3]\n",
    "b = [4,5,6]\n",
    "print( a + b )"
   ]
  },
  {
   "cell_type": "code",
   "execution_count": 12,
   "id": "eb7c3572",
   "metadata": {},
   "outputs": [
    {
     "name": "stdout",
     "output_type": "stream",
     "text": [
      "['1', '2', '3', '4']\n",
      "['14']\n"
     ]
    }
   ],
   "source": [
    "print(\"1 2 3 4\".split())\n",
    "print(\"14\".split())"
   ]
  },
  {
   "cell_type": "code",
   "execution_count": 1,
   "id": "d4f771c4",
   "metadata": {},
   "outputs": [
    {
     "name": "stdout",
     "output_type": "stream",
     "text": [
      "[False, False, False, False, False]\n"
     ]
    }
   ],
   "source": [
    "A = [5,4,3,2,1]\n",
    "C = list([False]*len(A))\n",
    "print(C)"
   ]
  }
 ],
 "metadata": {
  "kernelspec": {
   "display_name": "base",
   "language": "python",
   "name": "python3"
  },
  "language_info": {
   "codemirror_mode": {
    "name": "ipython",
    "version": 3
   },
   "file_extension": ".py",
   "mimetype": "text/x-python",
   "name": "python",
   "nbconvert_exporter": "python",
   "pygments_lexer": "ipython3",
   "version": "3.12.7"
  }
 },
 "nbformat": 4,
 "nbformat_minor": 5
}

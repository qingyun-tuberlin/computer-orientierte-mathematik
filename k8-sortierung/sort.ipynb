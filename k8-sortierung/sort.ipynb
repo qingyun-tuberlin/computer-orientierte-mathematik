{
 "cells": [
  {
   "cell_type": "markdown",
   "id": "8d66974e",
   "metadata": {},
   "source": [
    "# pratice so much until you can code in sleep"
   ]
  },
  {
   "cell_type": "markdown",
   "id": "72755952",
   "metadata": {},
   "source": [
    "## selection sort"
   ]
  },
  {
   "cell_type": "code",
   "execution_count": 1,
   "id": "e5b4422e",
   "metadata": {},
   "outputs": [
    {
     "name": "stdout",
     "output_type": "stream",
     "text": [
      "[1, 2, 3, 4]\n"
     ]
    }
   ],
   "source": [
    "input = [4,3,2,1]\n",
    "n = len(input)\n",
    "for i in range(0,n-1):\n",
    "    for j in range(i+1,n):\n",
    "        if input[j] < input[i]:\n",
    "            tmp = input[j]\n",
    "            input[j]=input[i]\n",
    "            input[i] = tmp\n",
    "print(input)"
   ]
  },
  {
   "cell_type": "code",
   "execution_count": 4,
   "id": "5fcec8d6",
   "metadata": {},
   "outputs": [
    {
     "name": "stdout",
     "output_type": "stream",
     "text": [
      "15 , -99\n",
      "-99 , 15\n"
     ]
    }
   ],
   "source": [
    "# tmp = input[j]\n",
    "# input[j]=input[i]\n",
    "# input[i] = tmp\n",
    "# this step can be optimized:\n",
    "a = 15\n",
    "b = -99\n",
    "print(a,\",\",b)\n",
    "a,b = b,a\n",
    "print(a,\",\",b)"
   ]
  },
  {
   "cell_type": "markdown",
   "id": "1fc4d200",
   "metadata": {},
   "source": [
    "## insertion sort"
   ]
  },
  {
   "cell_type": "code",
   "execution_count": null,
   "id": "8c9cedf7",
   "metadata": {},
   "outputs": [
    {
     "name": "stdout",
     "output_type": "stream",
     "text": [
      "[3, 2, 1, 0, 4]\n"
     ]
    }
   ],
   "source": [
    "input = [4,3,2,1,0]\n",
    "n = len(input)\n",
    "\n",
    "for i in range(1,n):\n",
    "    cur = input[i]\n",
    "    j = i\n",
    "    # !!!\n",
    "    # my error lies in input[j] < input[j-1]\n",
    "    while (j > 0 and input[j] < input[j-1]):\n",
    "        input[j] = input[j-1]\n",
    "        j -=1\n",
    "    input[j]=cur\n",
    "print(input)"
   ]
  },
  {
   "cell_type": "code",
   "execution_count": 6,
   "id": "938ce0b0",
   "metadata": {},
   "outputs": [
    {
     "name": "stdout",
     "output_type": "stream",
     "text": [
      "[0, 1, 2, 3, 4]\n"
     ]
    }
   ],
   "source": [
    "input = [4,3,2,1,0]\n",
    "n = len(input)\n",
    "\n",
    "for i in range(1,n):\n",
    "    cur = input[i]\n",
    "    j = i\n",
    "    while (j > 0 and cur < input[j-1]):\n",
    "        input[j] = input[j-1]\n",
    "        j -=1\n",
    "    input[j]=cur\n",
    "print(input)"
   ]
  }
 ],
 "metadata": {
  "kernelspec": {
   "display_name": "base",
   "language": "python",
   "name": "python3"
  },
  "language_info": {
   "codemirror_mode": {
    "name": "ipython",
    "version": 3
   },
   "file_extension": ".py",
   "mimetype": "text/x-python",
   "name": "python",
   "nbconvert_exporter": "python",
   "pygments_lexer": "ipython3",
   "version": "3.12.7"
  }
 },
 "nbformat": 4,
 "nbformat_minor": 5
}

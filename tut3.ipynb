{
 "cells": [
  {
   "cell_type": "markdown",
   "id": "1ff3394f",
   "metadata": {},
   "source": [
    "## Aufgabe 3"
   ]
  },
  {
   "cell_type": "code",
   "execution_count": 5,
   "id": "0f9a03d9",
   "metadata": {},
   "outputs": [
    {
     "name": "stdout",
     "output_type": "stream",
     "text": [
      "Test passt.\n"
     ]
    }
   ],
   "source": [
    "# (a) das Maximum zweier Zahlen zurückgibt.\n",
    "def funa (a: float, b: float):\n",
    "    if (a > b) :\n",
    "        return a\n",
    "    else:\n",
    "        return b\n",
    "def test_funa():\n",
    "    assert funa(10,-4) == 10\n",
    "    assert funa(-2, 5) == 5\n",
    "    print(\"Test passt.\")\n",
    "\n",
    "test_funa()"
   ]
  },
  {
   "cell_type": "code",
   "execution_count": 6,
   "id": "bbaabd2a",
   "metadata": {},
   "outputs": [
    {
     "name": "stdout",
     "output_type": "stream",
     "text": [
      "Test passt\n"
     ]
    }
   ],
   "source": [
    "# (b) das Maximum dreier Zahlen zurückgibt.\n",
    "def funb(a:float, b : float, c: float):\n",
    "    tmp = funa(a,b)\n",
    "    return funa(tmp,c)\n",
    "\n",
    "def test_funb():\n",
    "    assert funb(1,2,3)==3\n",
    "    assert funb(2,10,-2)\n",
    "    print(\"Test passt\")\n",
    "\n",
    "test_funb()"
   ]
  },
  {
   "cell_type": "code",
   "execution_count": 9,
   "id": "fd847ac9",
   "metadata": {},
   "outputs": [
    {
     "name": "stdout",
     "output_type": "stream",
     "text": [
      "Test Passt\n"
     ]
    }
   ],
   "source": [
    "# (c) die Fakultät n! einer Zahl n ∈ N zurückgibt.\n",
    "def func(n:float):\n",
    "    r=1\n",
    "    for i in range(1,n+1):\n",
    "        r = r*i\n",
    "    return r\n",
    "\n",
    "def test_func():\n",
    "    assert func(3)==6\n",
    "    print(\"Test Passt\")\n",
    "\n",
    "test_func()"
   ]
  },
  {
   "cell_type": "code",
   "execution_count": 12,
   "id": "d4da15ef",
   "metadata": {},
   "outputs": [
    {
     "name": "stdout",
     "output_type": "stream",
     "text": [
      "Test passt\n"
     ]
    }
   ],
   "source": [
    "# (d) die ersten n geraden Zahlen aufsummiert.\n",
    "def fund(n: int):\n",
    "    r = 0\n",
    "    for i in range(0, n):\n",
    "        r = r + 2*i\n",
    "    return r\n",
    "\n",
    "def test_fund():\n",
    "    assert fund(3) == 6\n",
    "    print(\"Test passt\")\n",
    "test_fund()"
   ]
  },
  {
   "cell_type": "code",
   "execution_count": null,
   "id": "3ff3f80e",
   "metadata": {},
   "outputs": [],
   "source": [
    "# (e) die Collatz-Folge vom Startwert n ∈ N \n",
    "# bis zum ersten 4,2,1-Zyklus ausgibt.\n",
    "\n",
    "def fune(n: int):\n",
    "    pass"
   ]
  }
 ],
 "metadata": {
  "kernelspec": {
   "display_name": "base",
   "language": "python",
   "name": "python3"
  },
  "language_info": {
   "codemirror_mode": {
    "name": "ipython",
    "version": 3
   },
   "file_extension": ".py",
   "mimetype": "text/x-python",
   "name": "python",
   "nbconvert_exporter": "python",
   "pygments_lexer": "ipython3",
   "version": "3.12.7"
  }
 },
 "nbformat": 4,
 "nbformat_minor": 5
}

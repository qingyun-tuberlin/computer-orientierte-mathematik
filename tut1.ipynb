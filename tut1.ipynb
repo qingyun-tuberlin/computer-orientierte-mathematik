{
 "cells": [
  {
   "cell_type": "markdown",
   "id": "0b13e7b1",
   "metadata": {},
   "source": [
    "# Tutorial 1"
   ]
  },
  {
   "cell_type": "markdown",
   "id": "0e533a4b",
   "metadata": {},
   "source": [
    "## Aufgabe 5 <br>"
   ]
  },
  {
   "cell_type": "markdown",
   "id": "deb65fb5",
   "metadata": {},
   "source": [
    "### 5.1 <br>\n",
    "how to give a programm an input from outside? <br>\n",
    "what is a function? <br>"
   ]
  },
  {
   "cell_type": "code",
   "execution_count": 2,
   "id": "0c3dccc8",
   "metadata": {},
   "outputs": [
    {
     "name": "stdout",
     "output_type": "stream",
     "text": [
      "my computer's operating sytem is:  Linux\n"
     ]
    }
   ],
   "source": [
    "operating_system = input(\"What is the operatiing system of your computer?\")\n",
    "print(\"my computer's operating sytem is: \", operating_system )"
   ]
  },
  {
   "cell_type": "code",
   "execution_count": 3,
   "id": "75fb8a5e",
   "metadata": {},
   "outputs": [
    {
     "name": "stdout",
     "output_type": "stream",
     "text": [
      "An apple weights:  300.0 gramm.\n"
     ]
    }
   ],
   "source": [
    "weight = float(input(\"What is the weight of an apple? [gramm]\"))\n",
    "print(\"An apple weights: \", weight, \"gramm.\")"
   ]
  },
  {
   "cell_type": "code",
   "execution_count": 5,
   "id": "17f05be5",
   "metadata": {},
   "outputs": [],
   "source": [
    "# a python function is defined as:\n",
    "# def function_name(parameter: type):\n",
    "#   implementation\n",
    "#   return\n",
    "\n",
    "# We can call a function, pass parameter in function"
   ]
  },
  {
   "cell_type": "markdown",
   "id": "2a7f9a16",
   "metadata": {},
   "source": [
    "## 5.2 <br>\n",
    "write 2 programms that calcualte the sum of two numbers. <br>\n",
    "first programm: The numbers should be given by user for one time. <br>\n",
    "second programm: the numbers should be passed to a function. <br>"
   ]
  },
  {
   "cell_type": "code",
   "execution_count": 6,
   "id": "500228e2",
   "metadata": {},
   "outputs": [
    {
     "name": "stdout",
     "output_type": "stream",
     "text": [
      "32.56\n"
     ]
    }
   ],
   "source": [
    "n1 = float(input(\"please give the first numer:\"))\n",
    "n2 = float(input(\"please give the second numer:\"))\n",
    "print(n1+n2)"
   ]
  },
  {
   "cell_type": "markdown",
   "id": "71740c4b",
   "metadata": {},
   "source": [
    "## 5.3"
   ]
  },
  {
   "cell_type": "code",
   "execution_count": 7,
   "id": "685c7fc5",
   "metadata": {},
   "outputs": [
    {
     "name": "stdout",
     "output_type": "stream",
     "text": [
      "4\n"
     ]
    }
   ],
   "source": [
    "def fun2(n1,n2):\n",
    "    print(n1+n2)\n",
    "\n",
    "fun2(1,3)"
   ]
  },
  {
   "cell_type": "code",
   "execution_count": null,
   "id": "79f9f880",
   "metadata": {},
   "outputs": [
    {
     "name": "stdout",
     "output_type": "stream",
     "text": [
      "Der größte gemeinsame Teiler von 19 und 2 ist 1.\n"
     ]
    }
   ],
   "source": [
    "def ggt_subtraktion(a, b):\n",
    "  \"\"\"\n",
    "  Berechnet den größten gemeinsamen Teiler (ggT) von a und b\n",
    "  mit dem euklidischen Algorithmus durch Subtraktion.\n",
    "  Die Vorraussetzung, dass a,b ∈ N \\{0} ist wichtig, sonst würde \n",
    "  die Schleife endlos.\n",
    "  \"\"\"\n",
    "  # Stellen Sie sicher, dass a und b positive ganze Zahlen sind\n",
    "  if not (isinstance(a, int) and isinstance(b, int) and a > 0 and b > 0):\n",
    "    raise ValueError(\"Beide Zahlen müssen positive ganze Zahlen sein.\")\n",
    "\n",
    "  while b != 0:\n",
    "    if a > b:\n",
    "      a = a - b\n",
    "    else:\n",
    "      b = b - a\n",
    "  return a\n",
    "\n",
    "\n",
    "# Beispielaufruf\n",
    "a = 19\n",
    "b = 2\n",
    "ergebnis = ggt_subtraktion(a, b)\n",
    "print(f\"Der größte gemeinsame Teiler von {a} und {b} ist {ergebnis}.\")"
   ]
  }
 ],
 "metadata": {
  "kernelspec": {
   "display_name": "base",
   "language": "python",
   "name": "python3"
  },
  "language_info": {
   "codemirror_mode": {
    "name": "ipython",
    "version": 3
   },
   "file_extension": ".py",
   "mimetype": "text/x-python",
   "name": "python",
   "nbconvert_exporter": "python",
   "pygments_lexer": "ipython3",
   "version": "3.12.7"
  }
 },
 "nbformat": 4,
 "nbformat_minor": 5
}
